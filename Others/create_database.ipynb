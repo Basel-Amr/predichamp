{
 "cells": [
  {
   "cell_type": "code",
   "execution_count": 1,
   "id": "aa00b0c6",
   "metadata": {},
   "outputs": [],
   "source": [
    "import os\n",
    "from dotenv import load_dotenv\n",
    "import sqlite3\n",
    "from rich.console import Console\n",
    "from rich.table import Table\n",
    "from rich.panel import Panel\n",
    "from rich import box"
   ]
  },
  {
   "cell_type": "code",
   "execution_count": 2,
   "id": "740fdb56",
   "metadata": {},
   "outputs": [],
   "source": [
    "# Load environment variables\n",
    "load_dotenv()\n",
    "\n",
    "console = Console()"
   ]
  },
  {
   "cell_type": "code",
   "execution_count": 3,
   "id": "966e0abc",
   "metadata": {},
   "outputs": [],
   "source": [
    "DB_FILE = os.getenv(\"DB_FILE\", \"game_database.db\")\n",
    "DB_PASSWORD = os.getenv(\"DB_PASSWORD\")"
   ]
  },
  {
   "cell_type": "code",
   "execution_count": 4,
   "id": "b6e71748",
   "metadata": {},
   "outputs": [],
   "source": [
    "def get_connection():\n",
    "    try:\n",
    "        os.makedirs(os.path.dirname(DB_FILE), exist_ok=True)\n",
    "        conn = sqlite3.connect(DB_FILE, timeout=10)\n",
    "        cursor = conn.cursor()\n",
    "        cursor.execute(\"PRAGMA foreign_keys = ON;\")\n",
    "        cursor.close()\n",
    "        return conn\n",
    "    except Exception as e:\n",
    "        console.print(f\"[red]❌ Could not open DB connection: {e}[/red]\")\n",
    "        raise\n"
   ]
  },
  {
   "cell_type": "code",
   "execution_count": 5,
   "id": "1becba0a",
   "metadata": {},
   "outputs": [],
   "source": [
    "def execute_query(query: str):\n",
    "    conn = None\n",
    "    cursor = None\n",
    "    try:\n",
    "        conn = get_connection()\n",
    "        cursor = conn.cursor()\n",
    "\n",
    "        console.print(\"[bold cyan]📡 Executing Query...[/bold cyan]\")\n",
    "        cursor.execute(query)\n",
    "\n",
    "        if query.strip().lower().startswith(\"select\"):\n",
    "            rows = cursor.fetchall()\n",
    "            if rows:\n",
    "                columns = [description[0] for description in cursor.description]\n",
    "\n",
    "                table = Table(title=\"Query Results\", box=box.ROUNDED, show_lines=True)\n",
    "                for col in columns:\n",
    "                    table.add_column(col, style=\"bold magenta\")\n",
    "\n",
    "                for row in rows:\n",
    "                    table.add_row(*[str(cell) for cell in row])\n",
    "\n",
    "                console.print(table)\n",
    "                console.print(f\"✅ [green]{len(rows)} rows fetched successfully.[/green]\")\n",
    "            else:\n",
    "                console.print(Panel(\"[yellow]⚠️ Query returned no rows.[/yellow]\", title=\"No Data\", style=\"yellow\"))\n",
    "        else:\n",
    "            conn.commit()\n",
    "            console.print(Panel(f\"✅ [green]Query executed successfully.[/green]\", title=\"Success\", style=\"green\"))\n",
    "\n",
    "    except Exception as e:\n",
    "        console.print(Panel(f\"❗ [red]Error executing query:[/red] {str(e)}\", title=\"Error\", style=\"red\"))\n",
    "\n",
    "    finally:\n",
    "        if cursor:\n",
    "            cursor.close()\n",
    "        if conn:\n",
    "            conn.close()\n",
    "        console.print(\"[bold cyan]🔌 Connection closed.[/bold cyan]\\n\")\n"
   ]
  },
  {
   "cell_type": "code",
   "execution_count": 44,
   "id": "0df71eb5",
   "metadata": {},
   "outputs": [],
   "source": [
    "def list_tables():\n",
    "    \"\"\"List all tables with row counts.\"\"\"\n",
    "    query = \"\"\"\n",
    "    SELECT name FROM sqlite_master \n",
    "    WHERE type='table' AND name NOT LIKE 'sqlite_%'\n",
    "    ORDER BY name;\n",
    "    \"\"\"\n",
    "    try:\n",
    "        conn = get_connection()\n",
    "        cursor = conn.cursor()\n",
    "        cursor.execute(query)\n",
    "        tables = cursor.fetchall()\n",
    "\n",
    "        if not tables:\n",
    "            console.print(Panel(\"[yellow]⚠️ No tables found in the database.[/yellow]\", title=\"No Tables\", style=\"yellow\"))\n",
    "            return\n",
    "\n",
    "        table = Table(title=\"Tables in Database\", box=box.ROUNDED, show_lines=True)\n",
    "        table.add_column(\"Table Name\", style=\"bold green\")\n",
    "        table.add_column(\"Number of Records\", style=\"bold cyan\", justify=\"right\")\n",
    "\n",
    "        for (table_name,) in tables:\n",
    "            cursor.execute(f\"SELECT COUNT(*) FROM {table_name}\")\n",
    "            count = cursor.fetchone()[0]\n",
    "            table.add_row(f\"📋 {table_name}\", str(count))\n",
    "\n",
    "        console.print(table)\n",
    "    except Exception as e:\n",
    "        console.print(Panel(f\"❗ [red]Error listing tables:[/red] {str(e)}\", title=\"Error\", style=\"red\"))\n",
    "    finally:\n",
    "        cursor.close()\n",
    "        conn.close()\n",
    "        console.print(\"[bold cyan]🔌 Connection closed.[/bold cyan]\\n\")"
   ]
  },
  {
   "cell_type": "code",
   "execution_count": 6,
   "id": "e5662e81",
   "metadata": {},
   "outputs": [],
   "source": [
    "def table_info(table_name: str):\n",
    "    \"\"\"Show info about table: columns, row count, and sample rows (max 10).\"\"\"\n",
    "    try:\n",
    "        conn = get_connection()\n",
    "        cursor = conn.cursor()\n",
    "\n",
    "        # Check if table exists\n",
    "        cursor.execute(\"SELECT name FROM sqlite_master WHERE type='table' AND name=?\", (table_name,))\n",
    "        if not cursor.fetchone():\n",
    "            console.print(Panel(f\"⚠️ Table '{table_name}' does not exist.\", style=\"yellow\"))\n",
    "            return\n",
    "\n",
    "        # Get columns info\n",
    "        cursor.execute(f\"PRAGMA table_info({table_name})\")\n",
    "        columns_info = cursor.fetchall()\n",
    "        columns = [col[1] for col in columns_info]\n",
    "\n",
    "        # Get row count\n",
    "        cursor.execute(f\"SELECT COUNT(*) FROM {table_name}\")\n",
    "        row_count = cursor.fetchone()[0]\n",
    "\n",
    "        # Print columns and row count\n",
    "        info_panel = Panel.fit(\n",
    "            f\"📋 [bold green]Table:[/bold green] {table_name}\\n\"\n",
    "            f\"🔢 [bold cyan]Columns:[/bold cyan] {', '.join(columns)}\\n\"\n",
    "            f\"📊 [bold magenta]Total Rows:[/bold magenta] {row_count}\",\n",
    "            title=\"Table Info\",\n",
    "            style=\"blue\",\n",
    "        )\n",
    "        console.print(info_panel)\n",
    "\n",
    "        # Fetch and show up to 10 rows\n",
    "        cursor.execute(f\"SELECT * FROM {table_name} LIMIT 10\")\n",
    "        rows = cursor.fetchall()\n",
    "\n",
    "        if rows:\n",
    "            table = Table(title=f\"Sample Data from {table_name}\", box=box.ROUNDED, show_lines=True)\n",
    "            for col in columns:\n",
    "                table.add_column(col, style=\"bold magenta\")\n",
    "            for row in rows:\n",
    "                table.add_row(*[str(cell) for cell in row])\n",
    "            console.print(table)\n",
    "        else:\n",
    "            console.print(Panel(\"[yellow]⚠️ No data found in the table.[/yellow]\", title=\"Empty Table\", style=\"yellow\"))\n",
    "\n",
    "    except Exception as e:\n",
    "        console.print(Panel(f\"❗ [red]Error fetching table info:[/red] {str(e)}\", title=\"Error\", style=\"red\"))\n",
    "    finally:\n",
    "        cursor.close()\n",
    "        conn.close()\n",
    "        console.print(\"[bold cyan]🔌 Connection closed.[/bold cyan]\\n\")"
   ]
  },
  {
   "cell_type": "code",
   "execution_count": 7,
   "id": "4d4b74ad",
   "metadata": {},
   "outputs": [
    {
     "ename": "NameError",
     "evalue": "name 'list_tables' is not defined",
     "output_type": "error",
     "traceback": [
      "\u001b[1;31m---------------------------------------------------------------------------\u001b[0m",
      "\u001b[1;31mNameError\u001b[0m                                 Traceback (most recent call last)",
      "Cell \u001b[1;32mIn[7], line 1\u001b[0m\n\u001b[1;32m----> 1\u001b[0m list_tables()\n",
      "\u001b[1;31mNameError\u001b[0m: name 'list_tables' is not defined"
     ]
    }
   ],
   "source": [
    "list_tables()"
   ]
  },
  {
   "cell_type": "code",
   "execution_count": 8,
   "id": "f1a33eac",
   "metadata": {},
   "outputs": [],
   "source": [
    "def drop_tables_interactive():\n",
    "    try:\n",
    "        conn = get_connection()\n",
    "        cursor = conn.cursor()\n",
    "\n",
    "        # Get list of user tables\n",
    "        cursor.execute(\"SELECT name FROM sqlite_master WHERE type='table' AND name NOT LIKE 'sqlite_%';\")\n",
    "        tables = [row[0] for row in cursor.fetchall()]\n",
    "\n",
    "        if not tables:\n",
    "            print(\"No user tables found to drop.\")\n",
    "            return\n",
    "\n",
    "        print(\"\\n📋 Existing tables:\")\n",
    "        for idx, table in enumerate(tables, 1):\n",
    "            print(f\"{idx}. {table}\")\n",
    "\n",
    "        print(\"\\nOptions:\")\n",
    "        print(\"  🔢 Enter the table number to drop a specific table\")\n",
    "        print(\"  💣 Enter 'all' to drop ALL tables\")\n",
    "        print(\"  ❌ Enter 'exit' to cancel and exit\")\n",
    "\n",
    "        while tables:\n",
    "            choice = input(\"\\nYour choice: \").strip().lower()\n",
    "\n",
    "            if choice == 'exit':\n",
    "                print(\"🚪 Exit without dropping tables.\")\n",
    "                break\n",
    "\n",
    "            elif choice == 'all':\n",
    "                for table in tables:\n",
    "                    try:\n",
    "                        cursor.execute(f\"DROP TABLE IF EXISTS {table};\")\n",
    "                        print(f\"✅ Dropped table '{table}'\")\n",
    "                    except sqlite3.OperationalError as e:\n",
    "                        print(f\"❌ Failed to drop '{table}': {e}\")\n",
    "                conn.commit()\n",
    "                break\n",
    "\n",
    "            elif choice.isdigit():\n",
    "                idx = int(choice)\n",
    "                if 1 <= idx <= len(tables):\n",
    "                    table = tables[idx - 1]\n",
    "                    try:\n",
    "                        cursor.execute(f\"DROP TABLE IF EXISTS {table};\")\n",
    "                        conn.commit()\n",
    "                        print(f\"✅ Dropped table '{table}'\")\n",
    "                        tables.pop(idx - 1)\n",
    "                    except sqlite3.OperationalError as e:\n",
    "                        print(f\"❌ Failed to drop '{table}': {e}\")\n",
    "\n",
    "                    if not tables:\n",
    "                        print(\"📭 No more tables left.\")\n",
    "                        break\n",
    "                    else:\n",
    "                        print(\"\\n📋 Remaining tables:\")\n",
    "                        for i, t in enumerate(tables, 1):\n",
    "                            print(f\"{i}. {t}\")\n",
    "                else:\n",
    "                    print(\"⚠️ Invalid table number, try again.\")\n",
    "            else:\n",
    "                print(\"⚠️ Invalid input, try again.\")\n",
    "\n",
    "    except sqlite3.OperationalError as e:\n",
    "        print(f\"🚫 Database operation failed: {e}\")\n",
    "    finally:\n",
    "        try:\n",
    "            cursor.close()\n",
    "        except:\n",
    "            pass\n",
    "        try:\n",
    "            conn.close()\n",
    "        except:\n",
    "            pass\n"
   ]
  },
  {
   "cell_type": "code",
   "execution_count": 18,
   "id": "d43e0204",
   "metadata": {},
   "outputs": [
    {
     "name": "stdout",
     "output_type": "stream",
     "text": [
      "No user tables found to drop.\n"
     ]
    }
   ],
   "source": [
    "drop_tables_interactive()"
   ]
  },
  {
   "cell_type": "markdown",
   "id": "17228cff",
   "metadata": {},
   "source": [
    "## 1.1 🧑‍💼 1. Players Table"
   ]
  },
  {
   "cell_type": "code",
   "execution_count": 10,
   "id": "95f5bd73",
   "metadata": {},
   "outputs": [
    {
     "data": {
      "text/html": [
       "<pre style=\"white-space:pre;overflow-x:auto;line-height:normal;font-family:Menlo,'DejaVu Sans Mono',consolas,'Courier New',monospace\"><span style=\"color: #008080; text-decoration-color: #008080; font-weight: bold\">📡 Executing Query...</span>\n",
       "</pre>\n"
      ],
      "text/plain": [
       "\u001b[1;36m📡 Executing Query\u001b[0m\u001b[1;36m...\u001b[0m\n"
      ]
     },
     "metadata": {},
     "output_type": "display_data"
    },
    {
     "data": {
      "text/html": [
       "<pre style=\"white-space:pre;overflow-x:auto;line-height:normal;font-family:Menlo,'DejaVu Sans Mono',consolas,'Courier New',monospace\"><span style=\"color: #800000; text-decoration-color: #800000\">╭───────────────────────────────────────────────────── Error ─────────────────────────────────────────────────────╮</span>\n",
       "<span style=\"color: #800000; text-decoration-color: #800000\">│ ❗ Error executing query: table two_legged_ties already exists                                                  │</span>\n",
       "<span style=\"color: #800000; text-decoration-color: #800000\">╰─────────────────────────────────────────────────────────────────────────────────────────────────────────────────╯</span>\n",
       "</pre>\n"
      ],
      "text/plain": [
       "\u001b[31m╭─\u001b[0m\u001b[31m────────────────────────────────────────────────────\u001b[0m\u001b[31m Error \u001b[0m\u001b[31m────────────────────────────────────────────────────\u001b[0m\u001b[31m─╮\u001b[0m\n",
       "\u001b[31m│\u001b[0m\u001b[31m \u001b[0m\u001b[31m❗ \u001b[0m\u001b[31mError executing query:\u001b[0m\u001b[31m table two_legged_ties already exists\u001b[0m\u001b[31m                                                 \u001b[0m\u001b[31m \u001b[0m\u001b[31m│\u001b[0m\n",
       "\u001b[31m╰─────────────────────────────────────────────────────────────────────────────────────────────────────────────────╯\u001b[0m\n"
      ]
     },
     "metadata": {},
     "output_type": "display_data"
    },
    {
     "data": {
      "text/html": [
       "<pre style=\"white-space:pre;overflow-x:auto;line-height:normal;font-family:Menlo,'DejaVu Sans Mono',consolas,'Courier New',monospace\"><span style=\"color: #008080; text-decoration-color: #008080; font-weight: bold\">🔌 Connection closed.</span>\n",
       "\n",
       "</pre>\n"
      ],
      "text/plain": [
       "\u001b[1;36m🔌 Connection closed.\u001b[0m\n",
       "\n"
      ]
     },
     "metadata": {},
     "output_type": "display_data"
    }
   ],
   "source": [
    "query_two_legged = \"\"\"\n",
    "CREATE TABLE two_legged_ties (\n",
    "    id INTEGER PRIMARY KEY AUTOINCREMENT,\n",
    "    round_id INTEGER NOT NULL,\n",
    "    league_id INTEGER NOT NULL,\n",
    "    home_team_id INTEGER NOT NULL,\n",
    "    away_team_id INTEGER NOT NULL,\n",
    "    stage_id INTEGER,\n",
    "    leg1_match_id INTEGER NOT NULL,  -- FK to matches.id for first leg\n",
    "    leg2_match_id INTEGER NOT NULL,  -- FK to matches.id for second leg\n",
    "    created_at DATETIME DEFAULT CURRENT_TIMESTAMP,\n",
    "\n",
    "    FOREIGN KEY (round_id) REFERENCES rounds(id) ON DELETE CASCADE,\n",
    "    FOREIGN KEY (league_id) REFERENCES leagues(id) ON DELETE CASCADE,\n",
    "    FOREIGN KEY (home_team_id) REFERENCES teams(id) ON DELETE CASCADE,\n",
    "    FOREIGN KEY (away_team_id) REFERENCES teams(id) ON DELETE CASCADE,\n",
    "    FOREIGN KEY (stage_id) REFERENCES stages(id) ON DELETE CASCADE,\n",
    "    FOREIGN KEY (leg1_match_id) REFERENCES matches(id) ON DELETE CASCADE,\n",
    "    FOREIGN KEY (leg2_match_id) REFERENCES matches(id) ON DELETE CASCADE\n",
    ");\n",
    "\"\"\"\n",
    "execute_query(query_two_legged)\n"
   ]
  },
  {
   "cell_type": "code",
   "execution_count": null,
   "id": "15734788",
   "metadata": {},
   "outputs": [
    {
     "data": {
      "text/html": [
       "<pre style=\"white-space:pre;overflow-x:auto;line-height:normal;font-family:Menlo,'DejaVu Sans Mono',consolas,'Courier New',monospace\"><span style=\"color: #008080; text-decoration-color: #008080; font-weight: bold\">📡 Executing Query...</span>\n",
       "</pre>\n"
      ],
      "text/plain": [
       "\u001b[1;36m📡 Executing Query\u001b[0m\u001b[1;36m...\u001b[0m\n"
      ]
     },
     "metadata": {},
     "output_type": "display_data"
    },
    {
     "data": {
      "text/html": [
       "<pre style=\"white-space:pre;overflow-x:auto;line-height:normal;font-family:Menlo,'DejaVu Sans Mono',consolas,'Courier New',monospace\"><span style=\"color: #008000; text-decoration-color: #008000\">╭──────────────────────────────────────────────────── Success ────────────────────────────────────────────────────╮</span>\n",
       "<span style=\"color: #008000; text-decoration-color: #008000\">│ ✅ Query executed successfully.                                                                                 │</span>\n",
       "<span style=\"color: #008000; text-decoration-color: #008000\">╰─────────────────────────────────────────────────────────────────────────────────────────────────────────────────╯</span>\n",
       "</pre>\n"
      ],
      "text/plain": [
       "\u001b[32m╭─\u001b[0m\u001b[32m───────────────────────────────────────────────────\u001b[0m\u001b[32m Success \u001b[0m\u001b[32m───────────────────────────────────────────────────\u001b[0m\u001b[32m─╮\u001b[0m\n",
       "\u001b[32m│\u001b[0m\u001b[32m \u001b[0m\u001b[32m✅ \u001b[0m\u001b[32mQuery executed successfully.\u001b[0m\u001b[32m                                                                                \u001b[0m\u001b[32m \u001b[0m\u001b[32m│\u001b[0m\n",
       "\u001b[32m╰─────────────────────────────────────────────────────────────────────────────────────────────────────────────────╯\u001b[0m\n"
      ]
     },
     "metadata": {},
     "output_type": "display_data"
    },
    {
     "data": {
      "text/html": [
       "<pre style=\"white-space:pre;overflow-x:auto;line-height:normal;font-family:Menlo,'DejaVu Sans Mono',consolas,'Courier New',monospace\"><span style=\"color: #008080; text-decoration-color: #008080; font-weight: bold\">🔌 Connection closed.</span>\n",
       "\n",
       "</pre>\n"
      ],
      "text/plain": [
       "\u001b[1;36m🔌 Connection closed.\u001b[0m\n",
       "\n"
      ]
     },
     "metadata": {},
     "output_type": "display_data"
    }
   ],
   "source": [
    "query_players = \"\"\"\n",
    "CREATE TABLE IF NOT EXISTS players (\n",
    "    id INTEGER PRIMARY KEY AUTOINCREMENT,\n",
    "    username TEXT NOT NULL UNIQUE,\n",
    "    email TEXT UNIQUE NOT NULL,\n",
    "    password_hash TEXT NOT NULL,\n",
    "    avatar_name TEXT DEFAULT 'Assets\\\\Avatars\\\\No-One.jpg',  -- escaped correctly\n",
    "    role TEXT CHECK(role IN ('admin', 'player')) DEFAULT 'player',\n",
    "    is_confirmed INTEGER DEFAULT 1,\n",
    "    reset_token TEXT,\n",
    "    score INTEGER DEFAULT 0,\n",
    "    bonous INTEGER DEFAULT 0, \n",
    "    total_leagues_won INTEGER DEFAULT 0,\n",
    "    total_cups_won INTEGER DEFAULT 0,\n",
    "    created_at DATETIME DEFAULT CURRENT_TIMESTAMP,\n",
    "    updated_at DATETIME DEFAULT CURRENT_TIMESTAMP,\n",
    "    last_login_at DATETIME DEFAULT NULL\n",
    ");\n",
    "\"\"\"\n",
    "execute_query(query_players)\n"
   ]
  },
  {
   "cell_type": "markdown",
   "id": "ffaaad36",
   "metadata": {},
   "source": [
    "## 2.2 🏆 2. Leagues Table"
   ]
  },
  {
   "cell_type": "code",
   "execution_count": 73,
   "id": "dffafa97",
   "metadata": {},
   "outputs": [
    {
     "data": {
      "text/html": [
       "<pre style=\"white-space:pre;overflow-x:auto;line-height:normal;font-family:Menlo,'DejaVu Sans Mono',consolas,'Courier New',monospace\"><span style=\"color: #008080; text-decoration-color: #008080; font-weight: bold\">📡 Executing Query...</span>\n",
       "</pre>\n"
      ],
      "text/plain": [
       "\u001b[1;36m📡 Executing Query\u001b[0m\u001b[1;36m...\u001b[0m\n"
      ]
     },
     "metadata": {},
     "output_type": "display_data"
    },
    {
     "data": {
      "text/html": [
       "<pre style=\"white-space:pre;overflow-x:auto;line-height:normal;font-family:Menlo,'DejaVu Sans Mono',consolas,'Courier New',monospace\"><span style=\"color: #008000; text-decoration-color: #008000\">╭──────────────────────────────────────────────────── Success ────────────────────────────────────────────────────╮</span>\n",
       "<span style=\"color: #008000; text-decoration-color: #008000\">│ ✅ Query executed successfully.                                                                                 │</span>\n",
       "<span style=\"color: #008000; text-decoration-color: #008000\">╰─────────────────────────────────────────────────────────────────────────────────────────────────────────────────╯</span>\n",
       "</pre>\n"
      ],
      "text/plain": [
       "\u001b[32m╭─\u001b[0m\u001b[32m───────────────────────────────────────────────────\u001b[0m\u001b[32m Success \u001b[0m\u001b[32m───────────────────────────────────────────────────\u001b[0m\u001b[32m─╮\u001b[0m\n",
       "\u001b[32m│\u001b[0m\u001b[32m \u001b[0m\u001b[32m✅ \u001b[0m\u001b[32mQuery executed successfully.\u001b[0m\u001b[32m                                                                                \u001b[0m\u001b[32m \u001b[0m\u001b[32m│\u001b[0m\n",
       "\u001b[32m╰─────────────────────────────────────────────────────────────────────────────────────────────────────────────────╯\u001b[0m\n"
      ]
     },
     "metadata": {},
     "output_type": "display_data"
    },
    {
     "data": {
      "text/html": [
       "<pre style=\"white-space:pre;overflow-x:auto;line-height:normal;font-family:Menlo,'DejaVu Sans Mono',consolas,'Courier New',monospace\"><span style=\"color: #008080; text-decoration-color: #008080; font-weight: bold\">🔌 Connection closed.</span>\n",
       "\n",
       "</pre>\n"
      ],
      "text/plain": [
       "\u001b[1;36m🔌 Connection closed.\u001b[0m\n",
       "\n"
      ]
     },
     "metadata": {},
     "output_type": "display_data"
    }
   ],
   "source": [
    "query_leagues = \"\"\"\n",
    "-- 🌍 Leagues Table\n",
    "CREATE TABLE IF NOT EXISTS leagues (\n",
    "    id INTEGER PRIMARY KEY AUTOINCREMENT,\n",
    "    name TEXT UNIQUE NOT NULL,\n",
    "    code TEXT UNIQUE,                         -- e.g., \"PL\", \"CL\"\n",
    "    country TEXT,\n",
    "    emblem TEXT,                              -- URL or logo filename\n",
    "    type TEXT CHECK(type IN ('LEAGUE', 'CUP')) DEFAULT 'LEAGUE',\n",
    "    founded_year INTEGER,\n",
    "    is_active INTEGER DEFAULT 1,\n",
    "    created_at DATETIME DEFAULT CURRENT_TIMESTAMP,\n",
    "    logo_path TEXT NOT NULL\n",
    ");\n",
    "\"\"\"\n",
    "execute_query(query_leagues)\n"
   ]
  },
  {
   "cell_type": "markdown",
   "id": "7eb75d7c",
   "metadata": {},
   "source": [
    "## 3.3 📅 3. Rounds Table"
   ]
  },
  {
   "cell_type": "code",
   "execution_count": 74,
   "id": "4f920f5e",
   "metadata": {},
   "outputs": [
    {
     "data": {
      "text/html": [
       "<pre style=\"white-space:pre;overflow-x:auto;line-height:normal;font-family:Menlo,'DejaVu Sans Mono',consolas,'Courier New',monospace\"><span style=\"color: #008080; text-decoration-color: #008080; font-weight: bold\">📡 Executing Query...</span>\n",
       "</pre>\n"
      ],
      "text/plain": [
       "\u001b[1;36m📡 Executing Query\u001b[0m\u001b[1;36m...\u001b[0m\n"
      ]
     },
     "metadata": {},
     "output_type": "display_data"
    },
    {
     "data": {
      "text/html": [
       "<pre style=\"white-space:pre;overflow-x:auto;line-height:normal;font-family:Menlo,'DejaVu Sans Mono',consolas,'Courier New',monospace\"><span style=\"color: #008000; text-decoration-color: #008000\">╭──────────────────────────────────────────────────── Success ────────────────────────────────────────────────────╮</span>\n",
       "<span style=\"color: #008000; text-decoration-color: #008000\">│ ✅ Query executed successfully.                                                                                 │</span>\n",
       "<span style=\"color: #008000; text-decoration-color: #008000\">╰─────────────────────────────────────────────────────────────────────────────────────────────────────────────────╯</span>\n",
       "</pre>\n"
      ],
      "text/plain": [
       "\u001b[32m╭─\u001b[0m\u001b[32m───────────────────────────────────────────────────\u001b[0m\u001b[32m Success \u001b[0m\u001b[32m───────────────────────────────────────────────────\u001b[0m\u001b[32m─╮\u001b[0m\n",
       "\u001b[32m│\u001b[0m\u001b[32m \u001b[0m\u001b[32m✅ \u001b[0m\u001b[32mQuery executed successfully.\u001b[0m\u001b[32m                                                                                \u001b[0m\u001b[32m \u001b[0m\u001b[32m│\u001b[0m\n",
       "\u001b[32m╰─────────────────────────────────────────────────────────────────────────────────────────────────────────────────╯\u001b[0m\n"
      ]
     },
     "metadata": {},
     "output_type": "display_data"
    },
    {
     "data": {
      "text/html": [
       "<pre style=\"white-space:pre;overflow-x:auto;line-height:normal;font-family:Menlo,'DejaVu Sans Mono',consolas,'Courier New',monospace\"><span style=\"color: #008080; text-decoration-color: #008080; font-weight: bold\">🔌 Connection closed.</span>\n",
       "\n",
       "</pre>\n"
      ],
      "text/plain": [
       "\u001b[1;36m🔌 Connection closed.\u001b[0m\n",
       "\n"
      ]
     },
     "metadata": {},
     "output_type": "display_data"
    }
   ],
   "source": [
    "query_rounds = \"\"\"\n",
    "CREATE TABLE IF NOT EXISTS rounds (\n",
    "    id INTEGER PRIMARY KEY AUTOINCREMENT,\n",
    "    name TEXT NOT NULL,                       -- e.g., Round1, Round 2\n",
    "    round_number INTEGER NOT NULL,\n",
    "    start_date DATE NOT NULL,\n",
    "    end_date DATE NOT NULL,\n",
    "    prediction_deadline DATETIME NOT NULL,\n",
    "    created_at DATETIME DEFAULT CURRENT_TIMESTAMP\n",
    ");\n",
    "\"\"\"\n",
    "execute_query(query_rounds)"
   ]
  },
  {
   "cell_type": "markdown",
   "id": "357393e7",
   "metadata": {},
   "source": [
    "## 4.4 🏟️ 4. Teams Table"
   ]
  },
  {
   "cell_type": "code",
   "execution_count": 76,
   "id": "e5136418",
   "metadata": {},
   "outputs": [
    {
     "data": {
      "text/html": [
       "<pre style=\"white-space:pre;overflow-x:auto;line-height:normal;font-family:Menlo,'DejaVu Sans Mono',consolas,'Courier New',monospace\"><span style=\"color: #008080; text-decoration-color: #008080; font-weight: bold\">📡 Executing Query...</span>\n",
       "</pre>\n"
      ],
      "text/plain": [
       "\u001b[1;36m📡 Executing Query\u001b[0m\u001b[1;36m...\u001b[0m\n"
      ]
     },
     "metadata": {},
     "output_type": "display_data"
    },
    {
     "data": {
      "text/html": [
       "<pre style=\"white-space:pre;overflow-x:auto;line-height:normal;font-family:Menlo,'DejaVu Sans Mono',consolas,'Courier New',monospace\"><span style=\"color: #008000; text-decoration-color: #008000\">╭──────────────────────────────────────────────────── Success ────────────────────────────────────────────────────╮</span>\n",
       "<span style=\"color: #008000; text-decoration-color: #008000\">│ ✅ Query executed successfully.                                                                                 │</span>\n",
       "<span style=\"color: #008000; text-decoration-color: #008000\">╰─────────────────────────────────────────────────────────────────────────────────────────────────────────────────╯</span>\n",
       "</pre>\n"
      ],
      "text/plain": [
       "\u001b[32m╭─\u001b[0m\u001b[32m───────────────────────────────────────────────────\u001b[0m\u001b[32m Success \u001b[0m\u001b[32m───────────────────────────────────────────────────\u001b[0m\u001b[32m─╮\u001b[0m\n",
       "\u001b[32m│\u001b[0m\u001b[32m \u001b[0m\u001b[32m✅ \u001b[0m\u001b[32mQuery executed successfully.\u001b[0m\u001b[32m                                                                                \u001b[0m\u001b[32m \u001b[0m\u001b[32m│\u001b[0m\n",
       "\u001b[32m╰─────────────────────────────────────────────────────────────────────────────────────────────────────────────────╯\u001b[0m\n"
      ]
     },
     "metadata": {},
     "output_type": "display_data"
    },
    {
     "data": {
      "text/html": [
       "<pre style=\"white-space:pre;overflow-x:auto;line-height:normal;font-family:Menlo,'DejaVu Sans Mono',consolas,'Courier New',monospace\"><span style=\"color: #008080; text-decoration-color: #008080; font-weight: bold\">🔌 Connection closed.</span>\n",
       "\n",
       "</pre>\n"
      ],
      "text/plain": [
       "\u001b[1;36m🔌 Connection closed.\u001b[0m\n",
       "\n"
      ]
     },
     "metadata": {},
     "output_type": "display_data"
    }
   ],
   "source": [
    "query_teams = \"\"\"\n",
    "CREATE TABLE IF NOT EXISTS teams (\n",
    "    id INTEGER PRIMARY KEY,  -- Use API team ID here\n",
    "    api_id INTEGER,                           -- Optional: ID from external API like Football-Data\n",
    "    name TEXT NOT NULL UNIQUE,\n",
    "    short_name TEXT,\n",
    "    tla TEXT,                                 -- Three-letter acronym like LIV\n",
    "    official_name TEXT NOT NULL,\n",
    "    logo_path TEXT,\n",
    "    nationality TEXT,\n",
    "    Venue_name TEXT DEFAULT no_data,\n",
    "    created_at DATETIME DEFAULT CURRENT_TIMESTAMP\n",
    ");\n",
    "\"\"\"\n",
    "\n",
    "execute_query(query_teams)\n"
   ]
  },
  {
   "cell_type": "markdown",
   "id": "b67d06c4",
   "metadata": {},
   "source": [
    "## team_league join table"
   ]
  },
  {
   "cell_type": "code",
   "execution_count": 26,
   "id": "42a5dd89",
   "metadata": {},
   "outputs": [
    {
     "data": {
      "text/html": [
       "<pre style=\"white-space:pre;overflow-x:auto;line-height:normal;font-family:Menlo,'DejaVu Sans Mono',consolas,'Courier New',monospace\"><span style=\"color: #008080; text-decoration-color: #008080; font-weight: bold\">📡 Executing Query...</span>\n",
       "</pre>\n"
      ],
      "text/plain": [
       "\u001b[1;36m📡 Executing Query\u001b[0m\u001b[1;36m...\u001b[0m\n"
      ]
     },
     "metadata": {},
     "output_type": "display_data"
    },
    {
     "data": {
      "text/html": [
       "<pre style=\"white-space:pre;overflow-x:auto;line-height:normal;font-family:Menlo,'DejaVu Sans Mono',consolas,'Courier New',monospace\"><span style=\"color: #008000; text-decoration-color: #008000\">╭──────────────────────────────────────────────────── Success ────────────────────────────────────────────────────╮</span>\n",
       "<span style=\"color: #008000; text-decoration-color: #008000\">│ ✅ Query executed successfully.                                                                                 │</span>\n",
       "<span style=\"color: #008000; text-decoration-color: #008000\">╰─────────────────────────────────────────────────────────────────────────────────────────────────────────────────╯</span>\n",
       "</pre>\n"
      ],
      "text/plain": [
       "\u001b[32m╭─\u001b[0m\u001b[32m───────────────────────────────────────────────────\u001b[0m\u001b[32m Success \u001b[0m\u001b[32m───────────────────────────────────────────────────\u001b[0m\u001b[32m─╮\u001b[0m\n",
       "\u001b[32m│\u001b[0m\u001b[32m \u001b[0m\u001b[32m✅ \u001b[0m\u001b[32mQuery executed successfully.\u001b[0m\u001b[32m                                                                                \u001b[0m\u001b[32m \u001b[0m\u001b[32m│\u001b[0m\n",
       "\u001b[32m╰─────────────────────────────────────────────────────────────────────────────────────────────────────────────────╯\u001b[0m\n"
      ]
     },
     "metadata": {},
     "output_type": "display_data"
    },
    {
     "data": {
      "text/html": [
       "<pre style=\"white-space:pre;overflow-x:auto;line-height:normal;font-family:Menlo,'DejaVu Sans Mono',consolas,'Courier New',monospace\"><span style=\"color: #008080; text-decoration-color: #008080; font-weight: bold\">🔌 Connection closed.</span>\n",
       "\n",
       "</pre>\n"
      ],
      "text/plain": [
       "\u001b[1;36m🔌 Connection closed.\u001b[0m\n",
       "\n"
      ]
     },
     "metadata": {},
     "output_type": "display_data"
    }
   ],
   "source": [
    "execute_query(\"\"\"\n",
    "CREATE TABLE IF NOT EXISTS team_league (\n",
    "    id INTEGER PRIMARY KEY AUTOINCREMENT,\n",
    "    team_id INTEGER NOT NULL,\n",
    "    league_id INTEGER NOT NULL,\n",
    "    season TEXT,  -- Optional (e.g., \"2024/2025\")\n",
    "    joined_at DATETIME DEFAULT CURRENT_TIMESTAMP,\n",
    "    FOREIGN KEY (team_id) REFERENCES teams(id) ON DELETE CASCADE,\n",
    "    FOREIGN KEY (league_id) REFERENCES leagues(id) ON DELETE CASCADE,\n",
    "    UNIQUE(team_id, league_id, season)  -- Prevent duplicates\n",
    ");\n",
    "\"\"\")\n",
    "\n"
   ]
  },
  {
   "cell_type": "markdown",
   "id": "4093b967",
   "metadata": {},
   "source": [
    "## 5.5 ⚽ 5. Matches Table"
   ]
  },
  {
   "cell_type": "code",
   "execution_count": 81,
   "id": "be691de7",
   "metadata": {},
   "outputs": [
    {
     "data": {
      "text/html": [
       "<pre style=\"white-space:pre;overflow-x:auto;line-height:normal;font-family:Menlo,'DejaVu Sans Mono',consolas,'Courier New',monospace\"><span style=\"color: #008080; text-decoration-color: #008080; font-weight: bold\">📡 Executing Query...</span>\n",
       "</pre>\n"
      ],
      "text/plain": [
       "\u001b[1;36m📡 Executing Query\u001b[0m\u001b[1;36m...\u001b[0m\n"
      ]
     },
     "metadata": {},
     "output_type": "display_data"
    },
    {
     "data": {
      "text/html": [
       "<pre style=\"white-space:pre;overflow-x:auto;line-height:normal;font-family:Menlo,'DejaVu Sans Mono',consolas,'Courier New',monospace\"><span style=\"color: #008000; text-decoration-color: #008000\">╭──────────────────────────────────────────────────── Success ────────────────────────────────────────────────────╮</span>\n",
       "<span style=\"color: #008000; text-decoration-color: #008000\">│ ✅ Query executed successfully.                                                                                 │</span>\n",
       "<span style=\"color: #008000; text-decoration-color: #008000\">╰─────────────────────────────────────────────────────────────────────────────────────────────────────────────────╯</span>\n",
       "</pre>\n"
      ],
      "text/plain": [
       "\u001b[32m╭─\u001b[0m\u001b[32m───────────────────────────────────────────────────\u001b[0m\u001b[32m Success \u001b[0m\u001b[32m───────────────────────────────────────────────────\u001b[0m\u001b[32m─╮\u001b[0m\n",
       "\u001b[32m│\u001b[0m\u001b[32m \u001b[0m\u001b[32m✅ \u001b[0m\u001b[32mQuery executed successfully.\u001b[0m\u001b[32m                                                                                \u001b[0m\u001b[32m \u001b[0m\u001b[32m│\u001b[0m\n",
       "\u001b[32m╰─────────────────────────────────────────────────────────────────────────────────────────────────────────────────╯\u001b[0m\n"
      ]
     },
     "metadata": {},
     "output_type": "display_data"
    },
    {
     "data": {
      "text/html": [
       "<pre style=\"white-space:pre;overflow-x:auto;line-height:normal;font-family:Menlo,'DejaVu Sans Mono',consolas,'Courier New',monospace\"><span style=\"color: #008080; text-decoration-color: #008080; font-weight: bold\">🔌 Connection closed.</span>\n",
       "\n",
       "</pre>\n"
      ],
      "text/plain": [
       "\u001b[1;36m🔌 Connection closed.\u001b[0m\n",
       "\n"
      ]
     },
     "metadata": {},
     "output_type": "display_data"
    }
   ],
   "source": [
    "query_matches = \"\"\"\n",
    "CREATE TABLE IF NOT EXISTS matches (\n",
    "    id INTEGER PRIMARY KEY AUTOINCREMENT,\n",
    "    round_id INTEGER NOT NULL,\n",
    "    league_id INTEGER NOT NULL,\n",
    "    home_team_id INTEGER NOT NULL,\n",
    "    away_team_id INTEGER NOT NULL,\n",
    "    match_datetime DATETIME NOT NULL,  -- Stored in UTC\n",
    "    status TEXT CHECK (status IN ('upcoming', 'live', 'finished', 'cancelled')) DEFAULT 'upcoming',\n",
    "    home_score INTEGER DEFAULT NULL,\n",
    "    away_score INTEGER DEFAULT NULL,\n",
    "    stage_id INTEGER,  -- Optional, nullable\n",
    "    penalty_winner INTEGER DEFAULT NULL,\n",
    "    is_predictable INTEGER DEFAULT 0,  -- 0: Not predictable, 1: Predictable\n",
    "    created_at DATETIME DEFAULT CURRENT_TIMESTAMP,\n",
    "    updated_at DATETIME DEFAULT CURRENT_TIMESTAMP,\n",
    "    matchday INT NOT NULL,\n",
    "    Venue_Name TEXT DEFAULT no_data,\n",
    "    api_match_id INTEGER UNIQUE, \n",
    "    FOREIGN KEY (round_id) REFERENCES rounds(id) ON DELETE CASCADE,\n",
    "    FOREIGN KEY (league_id) REFERENCES leagues(id) ON DELETE CASCADE,\n",
    "    FOREIGN KEY (home_team_id) REFERENCES teams(id) ON DELETE CASCADE,\n",
    "    FOREIGN KEY (away_team_id) REFERENCES teams(id) ON DELETE CASCADE,\n",
    "    FOREIGN KEY (stage_id) REFERENCES stages(id) ON DELETE CASCADE,\n",
    "    FOREIGN KEY (penalty_winner) REFERENCES teams(id) ON DELETE SET NULL\n",
    ");\n",
    "\n",
    "\"\"\"\n",
    "execute_query(query_matches)"
   ]
  },
  {
   "cell_type": "markdown",
   "id": "609674d2",
   "metadata": {},
   "source": [
    "## 6.6 🔁 6. Stages Table"
   ]
  },
  {
   "cell_type": "code",
   "execution_count": 79,
   "id": "d6a30632",
   "metadata": {},
   "outputs": [
    {
     "data": {
      "text/html": [
       "<pre style=\"white-space:pre;overflow-x:auto;line-height:normal;font-family:Menlo,'DejaVu Sans Mono',consolas,'Courier New',monospace\"><span style=\"color: #008080; text-decoration-color: #008080; font-weight: bold\">📡 Executing Query...</span>\n",
       "</pre>\n"
      ],
      "text/plain": [
       "\u001b[1;36m📡 Executing Query\u001b[0m\u001b[1;36m...\u001b[0m\n"
      ]
     },
     "metadata": {},
     "output_type": "display_data"
    },
    {
     "data": {
      "text/html": [
       "<pre style=\"white-space:pre;overflow-x:auto;line-height:normal;font-family:Menlo,'DejaVu Sans Mono',consolas,'Courier New',monospace\"><span style=\"color: #008000; text-decoration-color: #008000\">╭──────────────────────────────────────────────────── Success ────────────────────────────────────────────────────╮</span>\n",
       "<span style=\"color: #008000; text-decoration-color: #008000\">│ ✅ Query executed successfully.                                                                                 │</span>\n",
       "<span style=\"color: #008000; text-decoration-color: #008000\">╰─────────────────────────────────────────────────────────────────────────────────────────────────────────────────╯</span>\n",
       "</pre>\n"
      ],
      "text/plain": [
       "\u001b[32m╭─\u001b[0m\u001b[32m───────────────────────────────────────────────────\u001b[0m\u001b[32m Success \u001b[0m\u001b[32m───────────────────────────────────────────────────\u001b[0m\u001b[32m─╮\u001b[0m\n",
       "\u001b[32m│\u001b[0m\u001b[32m \u001b[0m\u001b[32m✅ \u001b[0m\u001b[32mQuery executed successfully.\u001b[0m\u001b[32m                                                                                \u001b[0m\u001b[32m \u001b[0m\u001b[32m│\u001b[0m\n",
       "\u001b[32m╰─────────────────────────────────────────────────────────────────────────────────────────────────────────────────╯\u001b[0m\n"
      ]
     },
     "metadata": {},
     "output_type": "display_data"
    },
    {
     "data": {
      "text/html": [
       "<pre style=\"white-space:pre;overflow-x:auto;line-height:normal;font-family:Menlo,'DejaVu Sans Mono',consolas,'Courier New',monospace\"><span style=\"color: #008080; text-decoration-color: #008080; font-weight: bold\">🔌 Connection closed.</span>\n",
       "\n",
       "</pre>\n"
      ],
      "text/plain": [
       "\u001b[1;36m🔌 Connection closed.\u001b[0m\n",
       "\n"
      ]
     },
     "metadata": {},
     "output_type": "display_data"
    }
   ],
   "source": [
    "query_stages = \"\"\"\n",
    "CREATE TABLE IF NOT EXISTS stages (\n",
    "    id INTEGER PRIMARY KEY AUTOINCREMENT,\n",
    "    name TEXT NOT NULL,\n",
    "    league_id INTEGER NOT NULL,\n",
    "    is_two_legged INTEGER DEFAULT 0 CHECK (is_two_legged IN (0, 1)),\n",
    "    allows_draw INTEGER DEFAULT 1 CHECK (allows_draw IN (0, 1)),\n",
    "    has_penalties INTEGER DEFAULT 0 CHECK (has_penalties IN (0, 1)),\n",
    "    FOREIGN KEY (league_id) REFERENCES leagues(id) ON DELETE CASCADE,\n",
    "    UNIQUE(name, league_id)\n",
    ");\n",
    "\"\"\"\n",
    "execute_query(query_stages)\n"
   ]
  },
  {
   "cell_type": "code",
   "execution_count": 31,
   "id": "8d8a320b",
   "metadata": {},
   "outputs": [
    {
     "data": {
      "text/html": [
       "<pre style=\"white-space:pre;overflow-x:auto;line-height:normal;font-family:Menlo,'DejaVu Sans Mono',consolas,'Courier New',monospace\"><span style=\"color: #008080; text-decoration-color: #008080; font-weight: bold\">📡 Executing Query...</span>\n",
       "</pre>\n"
      ],
      "text/plain": [
       "\u001b[1;36m📡 Executing Query\u001b[0m\u001b[1;36m...\u001b[0m\n"
      ]
     },
     "metadata": {},
     "output_type": "display_data"
    },
    {
     "data": {
      "text/html": [
       "<pre style=\"white-space:pre;overflow-x:auto;line-height:normal;font-family:Menlo,'DejaVu Sans Mono',consolas,'Courier New',monospace\"><span style=\"color: #008000; text-decoration-color: #008000\">╭──────────────────────────────────────────────────── Success ────────────────────────────────────────────────────╮</span>\n",
       "<span style=\"color: #008000; text-decoration-color: #008000\">│ ✅ Query executed successfully.                                                                                 │</span>\n",
       "<span style=\"color: #008000; text-decoration-color: #008000\">╰─────────────────────────────────────────────────────────────────────────────────────────────────────────────────╯</span>\n",
       "</pre>\n"
      ],
      "text/plain": [
       "\u001b[32m╭─\u001b[0m\u001b[32m───────────────────────────────────────────────────\u001b[0m\u001b[32m Success \u001b[0m\u001b[32m───────────────────────────────────────────────────\u001b[0m\u001b[32m─╮\u001b[0m\n",
       "\u001b[32m│\u001b[0m\u001b[32m \u001b[0m\u001b[32m✅ \u001b[0m\u001b[32mQuery executed successfully.\u001b[0m\u001b[32m                                                                                \u001b[0m\u001b[32m \u001b[0m\u001b[32m│\u001b[0m\n",
       "\u001b[32m╰─────────────────────────────────────────────────────────────────────────────────────────────────────────────────╯\u001b[0m\n"
      ]
     },
     "metadata": {},
     "output_type": "display_data"
    },
    {
     "data": {
      "text/html": [
       "<pre style=\"white-space:pre;overflow-x:auto;line-height:normal;font-family:Menlo,'DejaVu Sans Mono',consolas,'Courier New',monospace\"><span style=\"color: #008080; text-decoration-color: #008080; font-weight: bold\">🔌 Connection closed.</span>\n",
       "\n",
       "</pre>\n"
      ],
      "text/plain": [
       "\u001b[1;36m🔌 Connection closed.\u001b[0m\n",
       "\n"
      ]
     },
     "metadata": {},
     "output_type": "display_data"
    }
   ],
   "source": [
    "query_legs = \"\"\"\n",
    "CREATE TABLE IF NOT EXISTS two_legged_ties (\n",
    "    id INTEGER PRIMARY KEY AUTOINCREMENT,\n",
    "    first_leg_match_id INTEGER NOT NULL,\n",
    "    second_leg_match_id INTEGER NOT NULL,\n",
    "    winner_team_id INTEGER,  -- Nullable until calculated\n",
    "    FOREIGN KEY (first_leg_match_id) REFERENCES matches(id) ON DELETE CASCADE,\n",
    "    FOREIGN KEY (second_leg_match_id) REFERENCES matches(id) ON DELETE CASCADE,\n",
    "    FOREIGN KEY (winner_team_id) REFERENCES teams(id) ON DELETE SET NULL,\n",
    "    UNIQUE (first_leg_match_id, second_leg_match_id)\n",
    ");\n",
    "\"\"\"\n",
    "execute_query(query_legs)\n"
   ]
  },
  {
   "cell_type": "markdown",
   "id": "9da00b7b",
   "metadata": {},
   "source": [
    "## 8.8 predictions Table"
   ]
  },
  {
   "cell_type": "code",
   "execution_count": 80,
   "id": "25de2a39",
   "metadata": {},
   "outputs": [
    {
     "data": {
      "text/html": [
       "<pre style=\"white-space:pre;overflow-x:auto;line-height:normal;font-family:Menlo,'DejaVu Sans Mono',consolas,'Courier New',monospace\"><span style=\"color: #008080; text-decoration-color: #008080; font-weight: bold\">📡 Executing Query...</span>\n",
       "</pre>\n"
      ],
      "text/plain": [
       "\u001b[1;36m📡 Executing Query\u001b[0m\u001b[1;36m...\u001b[0m\n"
      ]
     },
     "metadata": {},
     "output_type": "display_data"
    },
    {
     "data": {
      "text/html": [
       "<pre style=\"white-space:pre;overflow-x:auto;line-height:normal;font-family:Menlo,'DejaVu Sans Mono',consolas,'Courier New',monospace\"><span style=\"color: #008000; text-decoration-color: #008000\">╭──────────────────────────────────────────────────── Success ────────────────────────────────────────────────────╮</span>\n",
       "<span style=\"color: #008000; text-decoration-color: #008000\">│ ✅ Query executed successfully.                                                                                 │</span>\n",
       "<span style=\"color: #008000; text-decoration-color: #008000\">╰─────────────────────────────────────────────────────────────────────────────────────────────────────────────────╯</span>\n",
       "</pre>\n"
      ],
      "text/plain": [
       "\u001b[32m╭─\u001b[0m\u001b[32m───────────────────────────────────────────────────\u001b[0m\u001b[32m Success \u001b[0m\u001b[32m───────────────────────────────────────────────────\u001b[0m\u001b[32m─╮\u001b[0m\n",
       "\u001b[32m│\u001b[0m\u001b[32m \u001b[0m\u001b[32m✅ \u001b[0m\u001b[32mQuery executed successfully.\u001b[0m\u001b[32m                                                                                \u001b[0m\u001b[32m \u001b[0m\u001b[32m│\u001b[0m\n",
       "\u001b[32m╰─────────────────────────────────────────────────────────────────────────────────────────────────────────────────╯\u001b[0m\n"
      ]
     },
     "metadata": {},
     "output_type": "display_data"
    },
    {
     "data": {
      "text/html": [
       "<pre style=\"white-space:pre;overflow-x:auto;line-height:normal;font-family:Menlo,'DejaVu Sans Mono',consolas,'Courier New',monospace\"><span style=\"color: #008080; text-decoration-color: #008080; font-weight: bold\">🔌 Connection closed.</span>\n",
       "\n",
       "</pre>\n"
      ],
      "text/plain": [
       "\u001b[1;36m🔌 Connection closed.\u001b[0m\n",
       "\n"
      ]
     },
     "metadata": {},
     "output_type": "display_data"
    }
   ],
   "source": [
    "query_predictions = \"\"\"\n",
    "CREATE TABLE IF NOT EXISTS predictions (\n",
    "    id INTEGER PRIMARY KEY AUTOINCREMENT,\n",
    "    player_id INTEGER NOT NULL,\n",
    "    match_id INTEGER NOT NULL,\n",
    "\n",
    "    predicted_home_score INTEGER NOT NULL,\n",
    "    predicted_away_score INTEGER NOT NULL,\n",
    "    predicted_penalty_winner_id INTEGER,  -- FK to teams.id (nullable if no penalties)\n",
    "\n",
    "    score INTEGER DEFAULT 0,  -- Computed after match ends\n",
    "\n",
    "    created_at DATETIME DEFAULT CURRENT_TIMESTAMP,\n",
    "\n",
    "    FOREIGN KEY (player_id) REFERENCES players(id) ON DELETE CASCADE,\n",
    "    FOREIGN KEY (match_id) REFERENCES matches(id) ON DELETE CASCADE,\n",
    "    FOREIGN KEY (predicted_penalty_winner_id) REFERENCES teams(id) ON DELETE SET NULL,\n",
    "\n",
    "    UNIQUE (player_id, match_id)  -- Player can only predict once per match\n",
    ");\n",
    "\"\"\"\n",
    "execute_query(query_predictions)"
   ]
  },
  {
   "cell_type": "code",
   "execution_count": 73,
   "id": "3a766b79",
   "metadata": {},
   "outputs": [
    {
     "data": {
      "text/html": [
       "<pre style=\"white-space:pre;overflow-x:auto;line-height:normal;font-family:Menlo,'DejaVu Sans Mono',consolas,'Courier New',monospace\"><span style=\"font-style: italic\">            Tables in Database            </span>\n",
       "╭────────────────────┬───────────────────╮\n",
       "│<span style=\"font-weight: bold\"> Table Name         </span>│<span style=\"font-weight: bold\"> Number of Records </span>│\n",
       "├────────────────────┼───────────────────┤\n",
       "│<span style=\"color: #008000; text-decoration-color: #008000; font-weight: bold\"> 📋 achievements    </span>│<span style=\"color: #008080; text-decoration-color: #008080; font-weight: bold\">                 0 </span>│\n",
       "├────────────────────┼───────────────────┤\n",
       "│<span style=\"color: #008000; text-decoration-color: #008000; font-weight: bold\"> 📋 avatars         </span>│<span style=\"color: #008080; text-decoration-color: #008080; font-weight: bold\">                 0 </span>│\n",
       "├────────────────────┼───────────────────┤\n",
       "│<span style=\"color: #008000; text-decoration-color: #008000; font-weight: bold\"> 📋 leagues         </span>│<span style=\"color: #008080; text-decoration-color: #008080; font-weight: bold\">                13 </span>│\n",
       "├────────────────────┼───────────────────┤\n",
       "│<span style=\"color: #008000; text-decoration-color: #008000; font-weight: bold\"> 📋 legs            </span>│<span style=\"color: #008080; text-decoration-color: #008080; font-weight: bold\">                 4 </span>│\n",
       "├────────────────────┼───────────────────┤\n",
       "│<span style=\"color: #008000; text-decoration-color: #008000; font-weight: bold\"> 📋 matches         </span>│<span style=\"color: #008080; text-decoration-color: #008080; font-weight: bold\">                10 </span>│\n",
       "├────────────────────┼───────────────────┤\n",
       "│<span style=\"color: #008000; text-decoration-color: #008000; font-weight: bold\"> 📋 players         </span>│<span style=\"color: #008080; text-decoration-color: #008080; font-weight: bold\">                 2 </span>│\n",
       "├────────────────────┼───────────────────┤\n",
       "│<span style=\"color: #008000; text-decoration-color: #008000; font-weight: bold\"> 📋 predictions     </span>│<span style=\"color: #008080; text-decoration-color: #008080; font-weight: bold\">                 7 </span>│\n",
       "├────────────────────┼───────────────────┤\n",
       "│<span style=\"color: #008000; text-decoration-color: #008000; font-weight: bold\"> 📋 rounds          </span>│<span style=\"color: #008080; text-decoration-color: #008080; font-weight: bold\">                 0 </span>│\n",
       "├────────────────────┼───────────────────┤\n",
       "│<span style=\"color: #008000; text-decoration-color: #008000; font-weight: bold\"> 📋 stages          </span>│<span style=\"color: #008080; text-decoration-color: #008080; font-weight: bold\">               100 </span>│\n",
       "├────────────────────┼───────────────────┤\n",
       "│<span style=\"color: #008000; text-decoration-color: #008000; font-weight: bold\"> 📋 team_league     </span>│<span style=\"color: #008080; text-decoration-color: #008080; font-weight: bold\">               113 </span>│\n",
       "├────────────────────┼───────────────────┤\n",
       "│<span style=\"color: #008000; text-decoration-color: #008000; font-weight: bold\"> 📋 teams           </span>│<span style=\"color: #008080; text-decoration-color: #008080; font-weight: bold\">                57 </span>│\n",
       "├────────────────────┼───────────────────┤\n",
       "│<span style=\"color: #008000; text-decoration-color: #008000; font-weight: bold\"> 📋 two_legged_ties </span>│<span style=\"color: #008080; text-decoration-color: #008080; font-weight: bold\">                 0 </span>│\n",
       "╰────────────────────┴───────────────────╯\n",
       "</pre>\n"
      ],
      "text/plain": [
       "\u001b[3m            Tables in Database            \u001b[0m\n",
       "╭────────────────────┬───────────────────╮\n",
       "│\u001b[1m \u001b[0m\u001b[1mTable Name        \u001b[0m\u001b[1m \u001b[0m│\u001b[1m \u001b[0m\u001b[1mNumber of Records\u001b[0m\u001b[1m \u001b[0m│\n",
       "├────────────────────┼───────────────────┤\n",
       "│\u001b[1;32m \u001b[0m\u001b[1;32m📋 achievements   \u001b[0m\u001b[1;32m \u001b[0m│\u001b[1;36m \u001b[0m\u001b[1;36m                0\u001b[0m\u001b[1;36m \u001b[0m│\n",
       "├────────────────────┼───────────────────┤\n",
       "│\u001b[1;32m \u001b[0m\u001b[1;32m📋 avatars        \u001b[0m\u001b[1;32m \u001b[0m│\u001b[1;36m \u001b[0m\u001b[1;36m                0\u001b[0m\u001b[1;36m \u001b[0m│\n",
       "├────────────────────┼───────────────────┤\n",
       "│\u001b[1;32m \u001b[0m\u001b[1;32m📋 leagues        \u001b[0m\u001b[1;32m \u001b[0m│\u001b[1;36m \u001b[0m\u001b[1;36m               13\u001b[0m\u001b[1;36m \u001b[0m│\n",
       "├────────────────────┼───────────────────┤\n",
       "│\u001b[1;32m \u001b[0m\u001b[1;32m📋 legs           \u001b[0m\u001b[1;32m \u001b[0m│\u001b[1;36m \u001b[0m\u001b[1;36m                4\u001b[0m\u001b[1;36m \u001b[0m│\n",
       "├────────────────────┼───────────────────┤\n",
       "│\u001b[1;32m \u001b[0m\u001b[1;32m📋 matches        \u001b[0m\u001b[1;32m \u001b[0m│\u001b[1;36m \u001b[0m\u001b[1;36m               10\u001b[0m\u001b[1;36m \u001b[0m│\n",
       "├────────────────────┼───────────────────┤\n",
       "│\u001b[1;32m \u001b[0m\u001b[1;32m📋 players        \u001b[0m\u001b[1;32m \u001b[0m│\u001b[1;36m \u001b[0m\u001b[1;36m                2\u001b[0m\u001b[1;36m \u001b[0m│\n",
       "├────────────────────┼───────────────────┤\n",
       "│\u001b[1;32m \u001b[0m\u001b[1;32m📋 predictions    \u001b[0m\u001b[1;32m \u001b[0m│\u001b[1;36m \u001b[0m\u001b[1;36m                7\u001b[0m\u001b[1;36m \u001b[0m│\n",
       "├────────────────────┼───────────────────┤\n",
       "│\u001b[1;32m \u001b[0m\u001b[1;32m📋 rounds         \u001b[0m\u001b[1;32m \u001b[0m│\u001b[1;36m \u001b[0m\u001b[1;36m                0\u001b[0m\u001b[1;36m \u001b[0m│\n",
       "├────────────────────┼───────────────────┤\n",
       "│\u001b[1;32m \u001b[0m\u001b[1;32m📋 stages         \u001b[0m\u001b[1;32m \u001b[0m│\u001b[1;36m \u001b[0m\u001b[1;36m              100\u001b[0m\u001b[1;36m \u001b[0m│\n",
       "├────────────────────┼───────────────────┤\n",
       "│\u001b[1;32m \u001b[0m\u001b[1;32m📋 team_league    \u001b[0m\u001b[1;32m \u001b[0m│\u001b[1;36m \u001b[0m\u001b[1;36m              113\u001b[0m\u001b[1;36m \u001b[0m│\n",
       "├────────────────────┼───────────────────┤\n",
       "│\u001b[1;32m \u001b[0m\u001b[1;32m📋 teams          \u001b[0m\u001b[1;32m \u001b[0m│\u001b[1;36m \u001b[0m\u001b[1;36m               57\u001b[0m\u001b[1;36m \u001b[0m│\n",
       "├────────────────────┼───────────────────┤\n",
       "│\u001b[1;32m \u001b[0m\u001b[1;32m📋 two_legged_ties\u001b[0m\u001b[1;32m \u001b[0m│\u001b[1;36m \u001b[0m\u001b[1;36m                0\u001b[0m\u001b[1;36m \u001b[0m│\n",
       "╰────────────────────┴───────────────────╯\n"
      ]
     },
     "metadata": {},
     "output_type": "display_data"
    },
    {
     "data": {
      "text/html": [
       "<pre style=\"white-space:pre;overflow-x:auto;line-height:normal;font-family:Menlo,'DejaVu Sans Mono',consolas,'Courier New',monospace\"><span style=\"color: #008080; text-decoration-color: #008080; font-weight: bold\">🔌 Connection closed.</span>\n",
       "\n",
       "</pre>\n"
      ],
      "text/plain": [
       "\u001b[1;36m🔌 Connection closed.\u001b[0m\n",
       "\n"
      ]
     },
     "metadata": {},
     "output_type": "display_data"
    }
   ],
   "source": [
    "list_tables()"
   ]
  },
  {
   "cell_type": "code",
   "execution_count": 37,
   "id": "a3ce467c",
   "metadata": {},
   "outputs": [
    {
     "data": {
      "text/html": [
       "<pre style=\"white-space:pre;overflow-x:auto;line-height:normal;font-family:Menlo,'DejaVu Sans Mono',consolas,'Courier New',monospace\"><span style=\"color: #000080; text-decoration-color: #000080\">╭────────────────────────────── Table Info ───────────────────────────────╮</span>\n",
       "<span style=\"color: #000080; text-decoration-color: #000080\">│ 📋 </span><span style=\"color: #008000; text-decoration-color: #008000; font-weight: bold\">Table:</span><span style=\"color: #000080; text-decoration-color: #000080\"> two_legged_ties                                               │</span>\n",
       "<span style=\"color: #000080; text-decoration-color: #000080\">│ 🔢 </span><span style=\"color: #008080; text-decoration-color: #008080; font-weight: bold\">Columns:</span><span style=\"color: #000080; text-decoration-color: #000080\"> id, first_leg_match_id, second_leg_match_id, winner_team_id │</span>\n",
       "<span style=\"color: #000080; text-decoration-color: #000080\">│ 📊 </span><span style=\"color: #800080; text-decoration-color: #800080; font-weight: bold\">Total Rows:</span><span style=\"color: #000080; text-decoration-color: #000080\"> 0                                                        │</span>\n",
       "<span style=\"color: #000080; text-decoration-color: #000080\">╰─────────────────────────────────────────────────────────────────────────╯</span>\n",
       "</pre>\n"
      ],
      "text/plain": [
       "\u001b[34m╭─\u001b[0m\u001b[34m─────────────────────────────\u001b[0m\u001b[34m Table Info \u001b[0m\u001b[34m──────────────────────────────\u001b[0m\u001b[34m─╮\u001b[0m\n",
       "\u001b[34m│\u001b[0m\u001b[34m \u001b[0m\u001b[34m📋 \u001b[0m\u001b[1;32mTable:\u001b[0m\u001b[34m two_legged_ties\u001b[0m\u001b[34m                                              \u001b[0m\u001b[34m \u001b[0m\u001b[34m│\u001b[0m\n",
       "\u001b[34m│\u001b[0m\u001b[34m \u001b[0m\u001b[34m🔢 \u001b[0m\u001b[1;36mColumns:\u001b[0m\u001b[34m id, first_leg_match_id, second_leg_match_id, winner_team_id\u001b[0m\u001b[34m \u001b[0m\u001b[34m│\u001b[0m\n",
       "\u001b[34m│\u001b[0m\u001b[34m \u001b[0m\u001b[34m📊 \u001b[0m\u001b[1;35mTotal Rows:\u001b[0m\u001b[34m 0\u001b[0m\u001b[34m                                                       \u001b[0m\u001b[34m \u001b[0m\u001b[34m│\u001b[0m\n",
       "\u001b[34m╰─────────────────────────────────────────────────────────────────────────╯\u001b[0m\n"
      ]
     },
     "metadata": {},
     "output_type": "display_data"
    },
    {
     "data": {
      "text/html": [
       "<pre style=\"white-space:pre;overflow-x:auto;line-height:normal;font-family:Menlo,'DejaVu Sans Mono',consolas,'Courier New',monospace\"><span style=\"color: #808000; text-decoration-color: #808000\">╭────────────────────────────────────────────────── Empty Table ──────────────────────────────────────────────────╮</span>\n",
       "<span style=\"color: #808000; text-decoration-color: #808000\">│ ⚠️ No data found in the table.                                                                                   │</span>\n",
       "<span style=\"color: #808000; text-decoration-color: #808000\">╰─────────────────────────────────────────────────────────────────────────────────────────────────────────────────╯</span>\n",
       "</pre>\n"
      ],
      "text/plain": [
       "\u001b[33m╭─\u001b[0m\u001b[33m─────────────────────────────────────────────────\u001b[0m\u001b[33m Empty Table \u001b[0m\u001b[33m─────────────────────────────────────────────────\u001b[0m\u001b[33m─╮\u001b[0m\n",
       "\u001b[33m│\u001b[0m\u001b[33m \u001b[0m\u001b[33m⚠️ No data found in the table.\u001b[0m\u001b[33m                                                                                  \u001b[0m\u001b[33m \u001b[0m\u001b[33m│\u001b[0m\n",
       "\u001b[33m╰─────────────────────────────────────────────────────────────────────────────────────────────────────────────────╯\u001b[0m\n"
      ]
     },
     "metadata": {},
     "output_type": "display_data"
    },
    {
     "data": {
      "text/html": [
       "<pre style=\"white-space:pre;overflow-x:auto;line-height:normal;font-family:Menlo,'DejaVu Sans Mono',consolas,'Courier New',monospace\"><span style=\"color: #008080; text-decoration-color: #008080; font-weight: bold\">🔌 Connection closed.</span>\n",
       "\n",
       "</pre>\n"
      ],
      "text/plain": [
       "\u001b[1;36m🔌 Connection closed.\u001b[0m\n",
       "\n"
      ]
     },
     "metadata": {},
     "output_type": "display_data"
    }
   ],
   "source": [
    "table_info(\"two_legged_ties\")"
   ]
  },
  {
   "cell_type": "code",
   "execution_count": 38,
   "id": "29327ccf",
   "metadata": {},
   "outputs": [
    {
     "data": {
      "text/html": [
       "<pre style=\"white-space:pre;overflow-x:auto;line-height:normal;font-family:Menlo,'DejaVu Sans Mono',consolas,'Courier New',monospace\"><span style=\"color: #000080; text-decoration-color: #000080\">╭────────────────────────────────────────────────── Table Info ───────────────────────────────────────────────────╮</span>\n",
       "<span style=\"color: #000080; text-decoration-color: #000080\">│ 📋 </span><span style=\"color: #008000; text-decoration-color: #008000; font-weight: bold\">Table:</span><span style=\"color: #000080; text-decoration-color: #000080\"> matches                                                                                               │</span>\n",
       "<span style=\"color: #000080; text-decoration-color: #000080\">│ 🔢 </span><span style=\"color: #008080; text-decoration-color: #008080; font-weight: bold\">Columns:</span><span style=\"color: #000080; text-decoration-color: #000080\"> id, round_id, league_id, home_team_id, away_team_id, match_datetime, status, home_score,            │</span>\n",
       "<span style=\"color: #000080; text-decoration-color: #000080\">│ away_score, stage_id, penalty_winner, created_at, updated_at                                                    │</span>\n",
       "<span style=\"color: #000080; text-decoration-color: #000080\">│ 📊 </span><span style=\"color: #800080; text-decoration-color: #800080; font-weight: bold\">Total Rows:</span><span style=\"color: #000080; text-decoration-color: #000080\"> 0                                                                                                │</span>\n",
       "<span style=\"color: #000080; text-decoration-color: #000080\">╰─────────────────────────────────────────────────────────────────────────────────────────────────────────────────╯</span>\n",
       "</pre>\n"
      ],
      "text/plain": [
       "\u001b[34m╭─\u001b[0m\u001b[34m─────────────────────────────────────────────────\u001b[0m\u001b[34m Table Info \u001b[0m\u001b[34m──────────────────────────────────────────────────\u001b[0m\u001b[34m─╮\u001b[0m\n",
       "\u001b[34m│\u001b[0m\u001b[34m \u001b[0m\u001b[34m📋 \u001b[0m\u001b[1;32mTable:\u001b[0m\u001b[34m matches\u001b[0m\u001b[34m                                                                                              \u001b[0m\u001b[34m \u001b[0m\u001b[34m│\u001b[0m\n",
       "\u001b[34m│\u001b[0m\u001b[34m \u001b[0m\u001b[34m🔢 \u001b[0m\u001b[1;36mColumns:\u001b[0m\u001b[34m id, round_id, league_id, home_team_id, away_team_id, match_datetime, status, home_score, \u001b[0m\u001b[34m          \u001b[0m\u001b[34m \u001b[0m\u001b[34m│\u001b[0m\n",
       "\u001b[34m│\u001b[0m\u001b[34m \u001b[0m\u001b[34maway_score, stage_id, penalty_winner, created_at, updated_at\u001b[0m\u001b[34m                                                   \u001b[0m\u001b[34m \u001b[0m\u001b[34m│\u001b[0m\n",
       "\u001b[34m│\u001b[0m\u001b[34m \u001b[0m\u001b[34m📊 \u001b[0m\u001b[1;35mTotal Rows:\u001b[0m\u001b[34m 0\u001b[0m\u001b[34m                                                                                               \u001b[0m\u001b[34m \u001b[0m\u001b[34m│\u001b[0m\n",
       "\u001b[34m╰─────────────────────────────────────────────────────────────────────────────────────────────────────────────────╯\u001b[0m\n"
      ]
     },
     "metadata": {},
     "output_type": "display_data"
    },
    {
     "data": {
      "text/html": [
       "<pre style=\"white-space:pre;overflow-x:auto;line-height:normal;font-family:Menlo,'DejaVu Sans Mono',consolas,'Courier New',monospace\"><span style=\"color: #808000; text-decoration-color: #808000\">╭────────────────────────────────────────────────── Empty Table ──────────────────────────────────────────────────╮</span>\n",
       "<span style=\"color: #808000; text-decoration-color: #808000\">│ ⚠️ No data found in the table.                                                                                   │</span>\n",
       "<span style=\"color: #808000; text-decoration-color: #808000\">╰─────────────────────────────────────────────────────────────────────────────────────────────────────────────────╯</span>\n",
       "</pre>\n"
      ],
      "text/plain": [
       "\u001b[33m╭─\u001b[0m\u001b[33m─────────────────────────────────────────────────\u001b[0m\u001b[33m Empty Table \u001b[0m\u001b[33m─────────────────────────────────────────────────\u001b[0m\u001b[33m─╮\u001b[0m\n",
       "\u001b[33m│\u001b[0m\u001b[33m \u001b[0m\u001b[33m⚠️ No data found in the table.\u001b[0m\u001b[33m                                                                                  \u001b[0m\u001b[33m \u001b[0m\u001b[33m│\u001b[0m\n",
       "\u001b[33m╰─────────────────────────────────────────────────────────────────────────────────────────────────────────────────╯\u001b[0m\n"
      ]
     },
     "metadata": {},
     "output_type": "display_data"
    },
    {
     "data": {
      "text/html": [
       "<pre style=\"white-space:pre;overflow-x:auto;line-height:normal;font-family:Menlo,'DejaVu Sans Mono',consolas,'Courier New',monospace\"><span style=\"color: #008080; text-decoration-color: #008080; font-weight: bold\">🔌 Connection closed.</span>\n",
       "\n",
       "</pre>\n"
      ],
      "text/plain": [
       "\u001b[1;36m🔌 Connection closed.\u001b[0m\n",
       "\n"
      ]
     },
     "metadata": {},
     "output_type": "display_data"
    }
   ],
   "source": [
    "table_info(\"matches\")"
   ]
  },
  {
   "cell_type": "code",
   "execution_count": 90,
   "id": "aaddaf40",
   "metadata": {},
   "outputs": [],
   "source": [
    "import sqlite3\n",
    "\n",
    "conn = sqlite3.connect(\"game_database.db\")\n",
    "cur = conn.cursor()\n",
    "\n",
    "try:\n",
    "    cur.execute(\"ALTER TABLE players ADD COLUMN avatar_url TEXT\")\n",
    "except sqlite3.OperationalError as e:\n",
    "    print(\"Column probably already exists:\", e)\n",
    "\n",
    "conn.commit()\n",
    "conn.close()\n"
   ]
  },
  {
   "cell_type": "code",
   "execution_count": 76,
   "id": "757fb2a6",
   "metadata": {},
   "outputs": [],
   "source": [
    "def show_and_clear_teams():\n",
    "    conn = get_connection()\n",
    "    cursor = conn.cursor()\n",
    "\n",
    "    # Fetch all records from teams\n",
    "    cursor.execute(\"SELECT * FROM matches;\")\n",
    "    records = cursor.fetchall()\n",
    "    print(\"Records before deletion:\")\n",
    "    if records:\n",
    "        for row in records:\n",
    "            print(row)\n",
    "    else:\n",
    "        print(\"No records found.\")\n",
    "\n",
    "    # Delete all records from teams\n",
    "    cursor.execute(\"DELETE FROM matches;\")\n",
    "    conn.commit()\n",
    "\n",
    "    # Fetch again to confirm deletion\n",
    "    cursor.execute(\"SELECT * FROM matches;\")\n",
    "    records_after = cursor.fetchall()\n",
    "    print(\"\\nRecords after deletion:\")\n",
    "    if records_after:\n",
    "        for row in records_after:\n",
    "            print(row)\n",
    "    else:\n",
    "        print(\"No records found.\")\n",
    "\n",
    "    cursor.close()\n",
    "    conn.close()\n"
   ]
  },
  {
   "cell_type": "markdown",
   "id": "78cf4ea9",
   "metadata": {},
   "source": [
    "# Real Data"
   ]
  },
  {
   "cell_type": "code",
   "execution_count": 57,
   "id": "7ce1cb39",
   "metadata": {},
   "outputs": [
    {
     "name": "stdout",
     "output_type": "stream",
     "text": [
      "Available Leagues:\n",
      "1. Premier League (England)\n",
      "2. Ligue 1 (France)\n",
      "3. Bundesliga (Germany)\n",
      "4. Serie A (Italy)\n",
      "5. Eredivisie (Netherlands)\n",
      "6. Primeira Liga (Portugal)\n",
      "7. Primera Division (Spain)\n",
      "Fetching teams for Premier League...\n",
      "\n",
      "Team Logos Dictionary:\n",
      "Arsenal FC: https://crests.football-data.org/57.png\n",
      "Aston Villa FC: https://crests.football-data.org/58.png\n",
      "Chelsea FC: https://crests.football-data.org/61.png\n",
      "Everton FC: https://crests.football-data.org/62.png\n",
      "Fulham FC: https://crests.football-data.org/63.png\n",
      "Liverpool FC: https://crests.football-data.org/64.png\n",
      "Manchester City FC: https://crests.football-data.org/65.png\n",
      "Manchester United FC: https://crests.football-data.org/66.png\n",
      "Newcastle United FC: https://crests.football-data.org/67.png\n",
      "Tottenham Hotspur FC: https://crests.football-data.org/73.png\n",
      "Wolverhampton Wanderers FC: https://crests.football-data.org/76.png\n",
      "Leicester City FC: https://crests.football-data.org/338.png\n",
      "Southampton FC: https://crests.football-data.org/340.png\n",
      "Ipswich Town FC: https://crests.football-data.org/349.png\n",
      "Nottingham Forest FC: https://crests.football-data.org/351.png\n",
      "Crystal Palace FC: https://crests.football-data.org/354.png\n",
      "Brighton & Hove Albion FC: https://crests.football-data.org/397.png\n",
      "Brentford FC: https://crests.football-data.org/402.png\n",
      "West Ham United FC: https://crests.football-data.org/563.png\n",
      "AFC Bournemouth: https://crests.football-data.org/bournemouth.png\n"
     ]
    }
   ],
   "source": [
    "import os\n",
    "import requests\n",
    "\n",
    "# Constants\n",
    "API_TOKEN = '4c936cda044a4c2eaa3ed158b90e66d3'  # Replace with your actual API key\n",
    "BASE_URL = 'https://api.football-data.org/v4'\n",
    "HEADERS = {'X-Auth-Token': API_TOKEN}\n",
    "LOGO_DOWNLOAD_PATH = r'D:\\Football_Prediction_Game\\assets\\clubs\\Team'\n",
    "\n",
    "# Ensure the logo directory exists\n",
    "os.makedirs(LOGO_DOWNLOAD_PATH, exist_ok=True)\n",
    "\n",
    "def get_leagues():\n",
    "    \"\"\"Fetches a list of top-tier football leagues.\"\"\"\n",
    "    url = f'{BASE_URL}/competitions'\n",
    "    response = requests.get(url, headers=HEADERS)\n",
    "    if response.status_code == 200:\n",
    "        data = response.json()\n",
    "        # Only return popular leagues\n",
    "        popular_league_codes = ['PL', 'PD', 'BL1', 'SA', 'FL1', 'DED', 'PPL']\n",
    "        leagues = [comp for comp in data['competitions'] if comp['code'] in popular_league_codes]\n",
    "        return leagues\n",
    "    else:\n",
    "        print(f\"Error fetching leagues: {response.status_code} - {response.text}\")\n",
    "        return []\n",
    "\n",
    "\n",
    "def get_teams(league_id):\n",
    "    \"\"\"Fetches teams for a given league ID.\"\"\"\n",
    "    url = f'{BASE_URL}/competitions/{league_id}/teams?season=2024'\n",
    "    response = requests.get(url, headers=HEADERS)\n",
    "    if response.status_code == 200:\n",
    "        data = response.json()\n",
    "        return data['teams']\n",
    "    else:\n",
    "        print(f\"Error fetching teams: {response.status_code}\")\n",
    "        return []\n",
    "\n",
    "def download_logo(team_name, logo_url):\n",
    "    \"\"\"Downloads the team's logo to the specified directory.\"\"\"\n",
    "    try:\n",
    "        response = requests.get(logo_url, stream=True)\n",
    "        if response.status_code == 200:\n",
    "            # Sanitize team name for filename\n",
    "            filename = f\"{team_name.replace(' ', '_').replace('/', '_')}.png\"\n",
    "            filepath = os.path.join(LOGO_DOWNLOAD_PATH, filename)\n",
    "            with open(filepath, 'wb') as f:\n",
    "                for chunk in response.iter_content(1024):\n",
    "                    f.write(chunk)\n",
    "            print(f\"Downloaded logo for {team_name}\")\n",
    "        else:\n",
    "            print(f\"Failed to download logo for {team_name}: {response.status_code}\")\n",
    "    except Exception as e:\n",
    "        print(f\"Error downloading logo for {team_name}: {e}\")\n",
    "\n",
    "def main():\n",
    "    leagues = get_leagues()\n",
    "    if not leagues:\n",
    "        print(\"No leagues available.\")\n",
    "        return\n",
    "\n",
    "    # Display leagues\n",
    "    print(\"Available Leagues:\")\n",
    "    for idx, league in enumerate(leagues, start=1):\n",
    "        print(f\"{idx}. {league['name']} ({league['area']['name']})\")\n",
    "\n",
    "    # User selects a league\n",
    "    try:\n",
    "        choice = int(input(\"Select a league by number: \"))\n",
    "        if 1 <= choice <= len(leagues):\n",
    "            selected_league = leagues[choice - 1]\n",
    "            print(f\"Fetching teams for {selected_league['name']}...\")\n",
    "            teams = get_teams(selected_league['id'])\n",
    "            if teams:\n",
    "                teams_dict = {}\n",
    "                for team in teams:\n",
    "                    team_name = team['name']\n",
    "                    logo_url = team.get('crest')  # use 'crest' instead of 'crestUrl' in v4\n",
    "                    teams_dict[team_name] = logo_url\n",
    "                print(\"\\nTeam Logos Dictionary:\")\n",
    "                for name, url in teams_dict.items():\n",
    "                    print(f\"{name}: {url}\")\n",
    "                return teams_dict\n",
    "            else:\n",
    "                print(\"No teams found for this league.\")\n",
    "        else:\n",
    "            print(\"Invalid selection.\")\n",
    "    except ValueError:\n",
    "        print(\"Please enter a valid number.\")\n",
    "\n",
    "\n",
    "if __name__ == \"__main__\":\n",
    "    main()\n"
   ]
  },
  {
   "cell_type": "code",
   "execution_count": 64,
   "id": "6be9d861",
   "metadata": {},
   "outputs": [
    {
     "name": "stdout",
     "output_type": "stream",
     "text": [
      "Available Leagues:\n",
      "1. Premier League (England)\n",
      "2. Ligue 1 (France)\n",
      "3. Bundesliga (Germany)\n",
      "4. Serie A (Italy)\n",
      "5. Eredivisie (Netherlands)\n",
      "6. Primeira Liga (Portugal)\n",
      "7. Primera Division (Spain)\n",
      "\n",
      "Fetching teams for Primera Division...\n",
      "\n",
      "Athletic Club: https://crests.football-data.org/77.png\n",
      "Club Atlético de Madrid: https://crests.football-data.org/78.png\n",
      "CA Osasuna: https://crests.football-data.org/79.png\n",
      "RCD Espanyol de Barcelona: https://crests.football-data.org/80.png\n",
      "FC Barcelona: https://crests.football-data.org/81.png\n",
      "Getafe CF: https://crests.football-data.org/82.png\n",
      "Real Madrid CF: https://crests.football-data.org/86.png\n",
      "Rayo Vallecano de Madrid: https://crests.football-data.org/87.png\n",
      "RCD Mallorca: https://crests.football-data.org/89.png\n",
      "Real Betis Balompié: https://crests.football-data.org/90.png\n",
      "Real Sociedad de Fútbol: https://crests.football-data.org/92.png\n",
      "Villarreal CF: https://crests.football-data.org/94.png\n",
      "Valencia CF: https://crests.football-data.org/95.png\n",
      "Real Valladolid CF: https://crests.football-data.org/250.png\n",
      "Deportivo Alavés: https://crests.football-data.org/263.png\n",
      "UD Las Palmas: https://crests.football-data.org/275.png\n",
      "Girona FC: https://crests.football-data.org/298.png\n",
      "RC Celta de Vigo: https://crests.football-data.org/558.png\n",
      "Sevilla FC: https://crests.football-data.org/559.png\n",
      "CD Leganés: https://crests.football-data.org/745.png\n",
      "\n",
      "Saved teams to D:\\Football_Prediction_Game\\assets\\clubs\\Team\\Primera_Division.txt\n"
     ]
    }
   ],
   "source": [
    "def main():\n",
    "    leagues = get_leagues()\n",
    "    if not leagues:\n",
    "        print(\"No leagues available.\")\n",
    "        return\n",
    "\n",
    "    # Display leagues\n",
    "    print(\"Available Leagues:\")\n",
    "    for idx, league in enumerate(leagues, start=1):\n",
    "        print(f\"{idx}. {league['name']} ({league['area']['name']})\")\n",
    "\n",
    "    # User selects a league\n",
    "    try:\n",
    "        choice = int(input(\"Select a league by number: \"))\n",
    "        if 1 <= choice <= len(leagues):\n",
    "            selected_league = leagues[choice - 1]\n",
    "            league_name_clean = selected_league['name'].replace(' ', '_').replace('/', '_')\n",
    "            print(f\"\\nFetching teams for {selected_league['name']}...\\n\")\n",
    "            teams = get_teams(selected_league['id'])\n",
    "\n",
    "            if teams:\n",
    "                teams_dict = {}\n",
    "                for team in teams:\n",
    "                    team_name = team['name']\n",
    "                    logo_url = team.get('crest')  # API v4 uses 'crest'\n",
    "                    teams_dict[team_name] = logo_url\n",
    "                    print(f\"{team_name}: {logo_url}\")\n",
    "\n",
    "                # Save to text file\n",
    "                file_path = os.path.join(LOGO_DOWNLOAD_PATH, f\"{league_name_clean}.txt\")\n",
    "                with open(file_path, 'w', encoding='utf-8') as f:\n",
    "                    for name, url in teams_dict.items():\n",
    "                        f.write(f\"{name}: {url}\\n\")\n",
    "\n",
    "                print(f\"\\nSaved teams to {file_path}\")\n",
    "                return teams_dict\n",
    "            else:\n",
    "                print(\"No teams found for this league.\")\n",
    "        else:\n",
    "            print(\"Invalid selection.\")\n",
    "    except ValueError:\n",
    "        print(\"Please enter a valid number.\")\n",
    "\n",
    "\n",
    "if __name__ == \"__main__\":\n",
    "    main()\n"
   ]
  },
  {
   "cell_type": "code",
   "execution_count": 8,
   "id": "32ca4fae",
   "metadata": {},
   "outputs": [],
   "source": [
    "import sqlite3\n",
    "\n",
    "def fetch_all(query, params=()):\n",
    "    conn = get_connection()\n",
    "    conn.row_factory = sqlite3.Row  # Enables dict-style row access\n",
    "    cur = conn.cursor()\n",
    "    cur.execute(query, params)\n",
    "    rows = cur.fetchall()\n",
    "    conn.close()\n",
    "    return [dict(row) for row in rows]\n",
    "\n",
    "def execute_query(query, params=()):\n",
    "    conn = get_connection()\n",
    "    cur = conn.cursor()\n",
    "    cur.execute(query, params)\n",
    "    conn.commit()\n",
    "    conn.close()\n"
   ]
  },
  {
   "cell_type": "code",
   "execution_count": 9,
   "id": "5592c09b",
   "metadata": {},
   "outputs": [
    {
     "name": "stdout",
     "output_type": "stream",
     "text": [
      "\n",
      "📋 List of Teams:\n",
      "1. AFC Bournemouth\n",
      "2. Al Ahly\n",
      "3. Al-Ain\n",
      "4. Al-Hilal\n",
      "5. Arsenal FC\n",
      "6. Aston Villa FC\n",
      "7. Athletic Club\n",
      "8. Atletico Madrid\n",
      "9. Barcelona\n",
      "10. Borussia Dortmund\n",
      "11. Brentford FC\n",
      "12. Brighton & Hove Albion FC\n",
      "13. CA Osasuna\n",
      "14. Chelsea FC\n",
      "15. Crystal Palace FC\n",
      "16. Deportivo Alavés\n",
      "17. Elche\n",
      "18. Everton FC\n",
      "19. FC Bayern München\n",
      "20. France\n",
      "21. Fulham FC\n",
      "22. Germany\n",
      "23. Getafe CF\n",
      "24. Girona FC\n",
      "25. Inter Miami\n",
      "26. Juventus FC\n",
      "27. Levante UD\n",
      "28. Liverpool FC\n",
      "29. Manchester City FC\n",
      "30. Manchester United FC\n",
      "31. Newcastle United FC\n",
      "32. Nottingham Forest FC\n",
      "33. Paris Saint-Germain FC\n",
      "34. Portugal\n",
      "35. Pyramids\n",
      "36. RC Celta de Vigo\n",
      "37. RCD Espanyol\n",
      "38. RCD Mallorca\n",
      "39. Rayo Vallecano\n",
      "40. Real Betis\n",
      "41. Real Madrid\n",
      "42. Real Sociedad\n",
      "43. Sevilla FC\n",
      "44. Spain\n",
      "45. Test\n",
      "46. Tottenham Hotspur FC\n",
      "47. Valencia CF\n",
      "48. Villarreal CF\n",
      "49. West Ham United FC\n",
      "50. Wolverhampton Wanderers FC\n",
      "51. Zamalek\n",
      "\n",
      "🏆 Available Leagues:\n",
      "1. Bundesliga\n",
      "2. CAF Champions League\n",
      "3. Club World Championship\n",
      "4. Copa del Rey\n",
      "5. Egyptian Premier League\n",
      "6. LaLiga\n",
      "7. Premier League\n",
      "8. Seria A\n",
      "9. Supercopa de España\n",
      "10. UEFA Champions League\n",
      "11. UEFA Conference League\n",
      "12. UEFA Europa League\n",
      "13. UEFA Nations League\n",
      "\n",
      "✅ Successfully updated leagues for team 'Juventus FC'.\n"
     ]
    }
   ],
   "source": [
    "def assign_team_to_leagues_console():\n",
    "    # Fetch all teams\n",
    "    teams = fetch_all(\"SELECT id, name FROM teams\")\n",
    "    if not teams:\n",
    "        print(\"❌ No teams found.\")\n",
    "        return\n",
    "\n",
    "    print(\"\\n📋 List of Teams:\")\n",
    "    for i, team in enumerate(teams, start=1):\n",
    "        print(f\"{i}. {team['name']}\")\n",
    "\n",
    "    choice = int(input(\"\\nEnter the number of the team to assign leagues: \"))\n",
    "    selected_team = teams[choice - 1]\n",
    "    selected_team_id = selected_team['id']\n",
    "\n",
    "    # Fetch all leagues\n",
    "    leagues = fetch_all(\"SELECT id, name FROM leagues\")\n",
    "    if not leagues:\n",
    "        print(\"❌ No leagues found.\")\n",
    "        return\n",
    "\n",
    "    print(\"\\n🏆 Available Leagues:\")\n",
    "    for i, league in enumerate(leagues, start=1):\n",
    "        print(f\"{i}. {league['name']}\")\n",
    "\n",
    "    selected_numbers = input(\"\\nEnter the numbers of the leagues to assign (comma-separated): \")\n",
    "    selected_indices = [int(x.strip()) for x in selected_numbers.split(\",\")]\n",
    "    selected_league_ids = [leagues[i - 1]['id'] for i in selected_indices]\n",
    "\n",
    "    # Delete old assignments\n",
    "    execute_query(\"DELETE FROM team_league WHERE team_id = ?\", (selected_team_id,))\n",
    "\n",
    "    # Insert new assignments\n",
    "    for league_id in selected_league_ids:\n",
    "        execute_query(\n",
    "            \"INSERT INTO team_league (team_id, league_id) VALUES (?, ?)\",\n",
    "            (selected_team_id, league_id)\n",
    "        )\n",
    "\n",
    "    print(f\"\\n✅ Successfully updated leagues for team '{selected_team['name']}'.\")\n",
    "\n",
    "assign_team_to_leagues_console()"
   ]
  },
  {
   "cell_type": "code",
   "execution_count": 133,
   "id": "8f0703f1",
   "metadata": {},
   "outputs": [
    {
     "data": {
      "text/html": [
       "<pre style=\"white-space:pre;overflow-x:auto;line-height:normal;font-family:Menlo,'DejaVu Sans Mono',consolas,'Courier New',monospace\"><span style=\"color: #000080; text-decoration-color: #000080\">╭──────────────────────────────────────────────────</span> Table Info <span style=\"color: #000080; text-decoration-color: #000080\">───────────────────────────────────────────────────╮</span>\n",
       "<span style=\"color: #000080; text-decoration-color: #000080\">│ 📋 </span><span style=\"color: #008000; text-decoration-color: #008000; font-weight: bold\">Table:</span><span style=\"color: #000080; text-decoration-color: #000080\"> matches                                                                                               │</span>\n",
       "<span style=\"color: #000080; text-decoration-color: #000080\">│ 🔢 </span><span style=\"color: #008080; text-decoration-color: #008080; font-weight: bold\">Columns:</span><span style=\"color: #000080; text-decoration-color: #000080\"> id, round_id, league_id, home_team_id, away_team_id, match_datetime, status, home_score,            │</span>\n",
       "<span style=\"color: #000080; text-decoration-color: #000080\">│ away_score, stage_id, penalty_winner                                                                            │</span>\n",
       "<span style=\"color: #000080; text-decoration-color: #000080\">│ 📊 </span><span style=\"color: #800080; text-decoration-color: #800080; font-weight: bold\">Total Rows:</span><span style=\"color: #000080; text-decoration-color: #000080\"> 6                                                                                                │</span>\n",
       "<span style=\"color: #000080; text-decoration-color: #000080\">╰─────────────────────────────────────────────────────────────────────────────────────────────────────────────────╯</span>\n",
       "</pre>\n"
      ],
      "text/plain": [
       "\u001b[34m╭─\u001b[0m\u001b[34m─────────────────────────────────────────────────\u001b[0m Table Info \u001b[34m──────────────────────────────────────────────────\u001b[0m\u001b[34m─╮\u001b[0m\n",
       "\u001b[34m│\u001b[0m\u001b[34m \u001b[0m\u001b[34m📋 \u001b[0m\u001b[1;32mTable:\u001b[0m\u001b[34m matches\u001b[0m\u001b[34m                                                                                              \u001b[0m\u001b[34m \u001b[0m\u001b[34m│\u001b[0m\n",
       "\u001b[34m│\u001b[0m\u001b[34m \u001b[0m\u001b[34m🔢 \u001b[0m\u001b[1;36mColumns:\u001b[0m\u001b[34m id, round_id, league_id, home_team_id, away_team_id, match_datetime, status, home_score, \u001b[0m\u001b[34m          \u001b[0m\u001b[34m \u001b[0m\u001b[34m│\u001b[0m\n",
       "\u001b[34m│\u001b[0m\u001b[34m \u001b[0m\u001b[34maway_score, stage_id, penalty_winner\u001b[0m\u001b[34m                                                                           \u001b[0m\u001b[34m \u001b[0m\u001b[34m│\u001b[0m\n",
       "\u001b[34m│\u001b[0m\u001b[34m \u001b[0m\u001b[34m📊 \u001b[0m\u001b[1;35mTotal Rows:\u001b[0m\u001b[34m 6\u001b[0m\u001b[34m                                                                                               \u001b[0m\u001b[34m \u001b[0m\u001b[34m│\u001b[0m\n",
       "\u001b[34m╰─────────────────────────────────────────────────────────────────────────────────────────────────────────────────╯\u001b[0m\n"
      ]
     },
     "metadata": {},
     "output_type": "display_data"
    },
    {
     "data": {
      "text/html": [
       "<pre style=\"white-space:pre;overflow-x:auto;line-height:normal;font-family:Menlo,'DejaVu Sans Mono',consolas,'Courier New',monospace\"><span style=\"font-style: italic\">                                             Sample Data from matches                                              </span>\n",
       "╭────┬──────────┬──────────┬──────────┬──────────┬──────────┬──────────┬──────────┬──────────┬──────────┬─────────╮\n",
       "│<span style=\"font-weight: bold\"> id </span>│<span style=\"font-weight: bold\"> round_id </span>│<span style=\"font-weight: bold\"> league_… </span>│<span style=\"font-weight: bold\"> home_te… </span>│<span style=\"font-weight: bold\"> away_te… </span>│<span style=\"font-weight: bold\"> match_d… </span>│<span style=\"font-weight: bold\"> status   </span>│<span style=\"font-weight: bold\"> home_sc… </span>│<span style=\"font-weight: bold\"> away_sc… </span>│<span style=\"font-weight: bold\"> stage_id </span>│<span style=\"font-weight: bold\"> penalt… </span>│\n",
       "├────┼──────────┼──────────┼──────────┼──────────┼──────────┼──────────┼──────────┼──────────┼──────────┼─────────┤\n",
       "│<span style=\"color: #800080; text-decoration-color: #800080; font-weight: bold\"> 57 </span>│<span style=\"color: #800080; text-decoration-color: #800080; font-weight: bold\"> 25       </span>│<span style=\"color: #800080; text-decoration-color: #800080; font-weight: bold\"> 13       </span>│<span style=\"color: #800080; text-decoration-color: #800080; font-weight: bold\"> 118      </span>│<span style=\"color: #800080; text-decoration-color: #800080; font-weight: bold\"> 121      </span>│<span style=\"color: #800080; text-decoration-color: #800080; font-weight: bold\"> 2025-06… </span>│<span style=\"color: #800080; text-decoration-color: #800080; font-weight: bold\"> finished </span>│<span style=\"color: #800080; text-decoration-color: #800080; font-weight: bold\"> 1        </span>│<span style=\"color: #800080; text-decoration-color: #800080; font-weight: bold\"> 2        </span>│<span style=\"color: #800080; text-decoration-color: #800080; font-weight: bold\"> 222      </span>│<span style=\"color: #800080; text-decoration-color: #800080; font-weight: bold\"> None    </span>│\n",
       "├────┼──────────┼──────────┼──────────┼──────────┼──────────┼──────────┼──────────┼──────────┼──────────┼─────────┤\n",
       "│<span style=\"color: #800080; text-decoration-color: #800080; font-weight: bold\"> 58 </span>│<span style=\"color: #800080; text-decoration-color: #800080; font-weight: bold\"> 25       </span>│<span style=\"color: #800080; text-decoration-color: #800080; font-weight: bold\"> 13       </span>│<span style=\"color: #800080; text-decoration-color: #800080; font-weight: bold\"> 119      </span>│<span style=\"color: #800080; text-decoration-color: #800080; font-weight: bold\"> 120      </span>│<span style=\"color: #800080; text-decoration-color: #800080; font-weight: bold\"> 2025-06… </span>│<span style=\"color: #800080; text-decoration-color: #800080; font-weight: bold\"> finished </span>│<span style=\"color: #800080; text-decoration-color: #800080; font-weight: bold\"> 4        </span>│<span style=\"color: #800080; text-decoration-color: #800080; font-weight: bold\"> 5        </span>│<span style=\"color: #800080; text-decoration-color: #800080; font-weight: bold\"> 222      </span>│<span style=\"color: #800080; text-decoration-color: #800080; font-weight: bold\"> None    </span>│\n",
       "├────┼──────────┼──────────┼──────────┼──────────┼──────────┼──────────┼──────────┼──────────┼──────────┼─────────┤\n",
       "│<span style=\"color: #800080; text-decoration-color: #800080; font-weight: bold\"> 59 </span>│<span style=\"color: #800080; text-decoration-color: #800080; font-weight: bold\"> 26       </span>│<span style=\"color: #800080; text-decoration-color: #800080; font-weight: bold\"> 13       </span>│<span style=\"color: #800080; text-decoration-color: #800080; font-weight: bold\"> 118      </span>│<span style=\"color: #800080; text-decoration-color: #800080; font-weight: bold\"> 120      </span>│<span style=\"color: #800080; text-decoration-color: #800080; font-weight: bold\"> 2025-06… </span>│<span style=\"color: #800080; text-decoration-color: #800080; font-weight: bold\"> finished </span>│<span style=\"color: #800080; text-decoration-color: #800080; font-weight: bold\"> 0        </span>│<span style=\"color: #800080; text-decoration-color: #800080; font-weight: bold\"> 2        </span>│<span style=\"color: #800080; text-decoration-color: #800080; font-weight: bold\"> 223      </span>│<span style=\"color: #800080; text-decoration-color: #800080; font-weight: bold\"> None    </span>│\n",
       "├────┼──────────┼──────────┼──────────┼──────────┼──────────┼──────────┼──────────┼──────────┼──────────┼─────────┤\n",
       "│<span style=\"color: #800080; text-decoration-color: #800080; font-weight: bold\"> 60 </span>│<span style=\"color: #800080; text-decoration-color: #800080; font-weight: bold\"> 26       </span>│<span style=\"color: #800080; text-decoration-color: #800080; font-weight: bold\"> 13       </span>│<span style=\"color: #800080; text-decoration-color: #800080; font-weight: bold\"> 121      </span>│<span style=\"color: #800080; text-decoration-color: #800080; font-weight: bold\"> 119      </span>│<span style=\"color: #800080; text-decoration-color: #800080; font-weight: bold\"> 2025-06… </span>│<span style=\"color: #800080; text-decoration-color: #800080; font-weight: bold\"> finished </span>│<span style=\"color: #800080; text-decoration-color: #800080; font-weight: bold\"> 2        </span>│<span style=\"color: #800080; text-decoration-color: #800080; font-weight: bold\"> 2        </span>│<span style=\"color: #800080; text-decoration-color: #800080; font-weight: bold\"> 224      </span>│<span style=\"color: #800080; text-decoration-color: #800080; font-weight: bold\"> 121     </span>│\n",
       "├────┼──────────┼──────────┼──────────┼──────────┼──────────┼──────────┼──────────┼──────────┼──────────┼─────────┤\n",
       "│<span style=\"color: #800080; text-decoration-color: #800080; font-weight: bold\"> 71 </span>│<span style=\"color: #800080; text-decoration-color: #800080; font-weight: bold\"> 26       </span>│<span style=\"color: #800080; text-decoration-color: #800080; font-weight: bold\"> 6        </span>│<span style=\"color: #800080; text-decoration-color: #800080; font-weight: bold\"> 65       </span>│<span style=\"color: #800080; text-decoration-color: #800080; font-weight: bold\"> 83       </span>│<span style=\"color: #800080; text-decoration-color: #800080; font-weight: bold\"> 2025-06… </span>│<span style=\"color: #800080; text-decoration-color: #800080; font-weight: bold\"> finished </span>│<span style=\"color: #800080; text-decoration-color: #800080; font-weight: bold\"> 2        </span>│<span style=\"color: #800080; text-decoration-color: #800080; font-weight: bold\"> 1        </span>│<span style=\"color: #800080; text-decoration-color: #800080; font-weight: bold\"> 220      </span>│<span style=\"color: #800080; text-decoration-color: #800080; font-weight: bold\"> None    </span>│\n",
       "├────┼──────────┼──────────┼──────────┼──────────┼──────────┼──────────┼──────────┼──────────┼──────────┼─────────┤\n",
       "│<span style=\"color: #800080; text-decoration-color: #800080; font-weight: bold\"> 72 </span>│<span style=\"color: #800080; text-decoration-color: #800080; font-weight: bold\"> 26       </span>│<span style=\"color: #800080; text-decoration-color: #800080; font-weight: bold\"> 6        </span>│<span style=\"color: #800080; text-decoration-color: #800080; font-weight: bold\"> 83       </span>│<span style=\"color: #800080; text-decoration-color: #800080; font-weight: bold\"> 65       </span>│<span style=\"color: #800080; text-decoration-color: #800080; font-weight: bold\"> 2025-06… </span>│<span style=\"color: #800080; text-decoration-color: #800080; font-weight: bold\"> finished </span>│<span style=\"color: #800080; text-decoration-color: #800080; font-weight: bold\"> 2        </span>│<span style=\"color: #800080; text-decoration-color: #800080; font-weight: bold\"> 1        </span>│<span style=\"color: #800080; text-decoration-color: #800080; font-weight: bold\"> 220      </span>│<span style=\"color: #800080; text-decoration-color: #800080; font-weight: bold\"> 83      </span>│\n",
       "╰────┴──────────┴──────────┴──────────┴──────────┴──────────┴──────────┴──────────┴──────────┴──────────┴─────────╯\n",
       "</pre>\n"
      ],
      "text/plain": [
       "\u001b[3m                                             Sample Data from matches                                              \u001b[0m\n",
       "╭────┬──────────┬──────────┬──────────┬──────────┬──────────┬──────────┬──────────┬──────────┬──────────┬─────────╮\n",
       "│\u001b[1m \u001b[0m\u001b[1mid\u001b[0m\u001b[1m \u001b[0m│\u001b[1m \u001b[0m\u001b[1mround_id\u001b[0m\u001b[1m \u001b[0m│\u001b[1m \u001b[0m\u001b[1mleague_…\u001b[0m\u001b[1m \u001b[0m│\u001b[1m \u001b[0m\u001b[1mhome_te…\u001b[0m\u001b[1m \u001b[0m│\u001b[1m \u001b[0m\u001b[1maway_te…\u001b[0m\u001b[1m \u001b[0m│\u001b[1m \u001b[0m\u001b[1mmatch_d…\u001b[0m\u001b[1m \u001b[0m│\u001b[1m \u001b[0m\u001b[1mstatus  \u001b[0m\u001b[1m \u001b[0m│\u001b[1m \u001b[0m\u001b[1mhome_sc…\u001b[0m\u001b[1m \u001b[0m│\u001b[1m \u001b[0m\u001b[1maway_sc…\u001b[0m\u001b[1m \u001b[0m│\u001b[1m \u001b[0m\u001b[1mstage_id\u001b[0m\u001b[1m \u001b[0m│\u001b[1m \u001b[0m\u001b[1mpenalt…\u001b[0m\u001b[1m \u001b[0m│\n",
       "├────┼──────────┼──────────┼──────────┼──────────┼──────────┼──────────┼──────────┼──────────┼──────────┼─────────┤\n",
       "│\u001b[1;35m \u001b[0m\u001b[1;35m57\u001b[0m\u001b[1;35m \u001b[0m│\u001b[1;35m \u001b[0m\u001b[1;35m25      \u001b[0m\u001b[1;35m \u001b[0m│\u001b[1;35m \u001b[0m\u001b[1;35m13      \u001b[0m\u001b[1;35m \u001b[0m│\u001b[1;35m \u001b[0m\u001b[1;35m118     \u001b[0m\u001b[1;35m \u001b[0m│\u001b[1;35m \u001b[0m\u001b[1;35m121     \u001b[0m\u001b[1;35m \u001b[0m│\u001b[1;35m \u001b[0m\u001b[1;35m2025-06…\u001b[0m\u001b[1;35m \u001b[0m│\u001b[1;35m \u001b[0m\u001b[1;35mfinished\u001b[0m\u001b[1;35m \u001b[0m│\u001b[1;35m \u001b[0m\u001b[1;35m1       \u001b[0m\u001b[1;35m \u001b[0m│\u001b[1;35m \u001b[0m\u001b[1;35m2       \u001b[0m\u001b[1;35m \u001b[0m│\u001b[1;35m \u001b[0m\u001b[1;35m222     \u001b[0m\u001b[1;35m \u001b[0m│\u001b[1;35m \u001b[0m\u001b[1;35mNone   \u001b[0m\u001b[1;35m \u001b[0m│\n",
       "├────┼──────────┼──────────┼──────────┼──────────┼──────────┼──────────┼──────────┼──────────┼──────────┼─────────┤\n",
       "│\u001b[1;35m \u001b[0m\u001b[1;35m58\u001b[0m\u001b[1;35m \u001b[0m│\u001b[1;35m \u001b[0m\u001b[1;35m25      \u001b[0m\u001b[1;35m \u001b[0m│\u001b[1;35m \u001b[0m\u001b[1;35m13      \u001b[0m\u001b[1;35m \u001b[0m│\u001b[1;35m \u001b[0m\u001b[1;35m119     \u001b[0m\u001b[1;35m \u001b[0m│\u001b[1;35m \u001b[0m\u001b[1;35m120     \u001b[0m\u001b[1;35m \u001b[0m│\u001b[1;35m \u001b[0m\u001b[1;35m2025-06…\u001b[0m\u001b[1;35m \u001b[0m│\u001b[1;35m \u001b[0m\u001b[1;35mfinished\u001b[0m\u001b[1;35m \u001b[0m│\u001b[1;35m \u001b[0m\u001b[1;35m4       \u001b[0m\u001b[1;35m \u001b[0m│\u001b[1;35m \u001b[0m\u001b[1;35m5       \u001b[0m\u001b[1;35m \u001b[0m│\u001b[1;35m \u001b[0m\u001b[1;35m222     \u001b[0m\u001b[1;35m \u001b[0m│\u001b[1;35m \u001b[0m\u001b[1;35mNone   \u001b[0m\u001b[1;35m \u001b[0m│\n",
       "├────┼──────────┼──────────┼──────────┼──────────┼──────────┼──────────┼──────────┼──────────┼──────────┼─────────┤\n",
       "│\u001b[1;35m \u001b[0m\u001b[1;35m59\u001b[0m\u001b[1;35m \u001b[0m│\u001b[1;35m \u001b[0m\u001b[1;35m26      \u001b[0m\u001b[1;35m \u001b[0m│\u001b[1;35m \u001b[0m\u001b[1;35m13      \u001b[0m\u001b[1;35m \u001b[0m│\u001b[1;35m \u001b[0m\u001b[1;35m118     \u001b[0m\u001b[1;35m \u001b[0m│\u001b[1;35m \u001b[0m\u001b[1;35m120     \u001b[0m\u001b[1;35m \u001b[0m│\u001b[1;35m \u001b[0m\u001b[1;35m2025-06…\u001b[0m\u001b[1;35m \u001b[0m│\u001b[1;35m \u001b[0m\u001b[1;35mfinished\u001b[0m\u001b[1;35m \u001b[0m│\u001b[1;35m \u001b[0m\u001b[1;35m0       \u001b[0m\u001b[1;35m \u001b[0m│\u001b[1;35m \u001b[0m\u001b[1;35m2       \u001b[0m\u001b[1;35m \u001b[0m│\u001b[1;35m \u001b[0m\u001b[1;35m223     \u001b[0m\u001b[1;35m \u001b[0m│\u001b[1;35m \u001b[0m\u001b[1;35mNone   \u001b[0m\u001b[1;35m \u001b[0m│\n",
       "├────┼──────────┼──────────┼──────────┼──────────┼──────────┼──────────┼──────────┼──────────┼──────────┼─────────┤\n",
       "│\u001b[1;35m \u001b[0m\u001b[1;35m60\u001b[0m\u001b[1;35m \u001b[0m│\u001b[1;35m \u001b[0m\u001b[1;35m26      \u001b[0m\u001b[1;35m \u001b[0m│\u001b[1;35m \u001b[0m\u001b[1;35m13      \u001b[0m\u001b[1;35m \u001b[0m│\u001b[1;35m \u001b[0m\u001b[1;35m121     \u001b[0m\u001b[1;35m \u001b[0m│\u001b[1;35m \u001b[0m\u001b[1;35m119     \u001b[0m\u001b[1;35m \u001b[0m│\u001b[1;35m \u001b[0m\u001b[1;35m2025-06…\u001b[0m\u001b[1;35m \u001b[0m│\u001b[1;35m \u001b[0m\u001b[1;35mfinished\u001b[0m\u001b[1;35m \u001b[0m│\u001b[1;35m \u001b[0m\u001b[1;35m2       \u001b[0m\u001b[1;35m \u001b[0m│\u001b[1;35m \u001b[0m\u001b[1;35m2       \u001b[0m\u001b[1;35m \u001b[0m│\u001b[1;35m \u001b[0m\u001b[1;35m224     \u001b[0m\u001b[1;35m \u001b[0m│\u001b[1;35m \u001b[0m\u001b[1;35m121    \u001b[0m\u001b[1;35m \u001b[0m│\n",
       "├────┼──────────┼──────────┼──────────┼──────────┼──────────┼──────────┼──────────┼──────────┼──────────┼─────────┤\n",
       "│\u001b[1;35m \u001b[0m\u001b[1;35m71\u001b[0m\u001b[1;35m \u001b[0m│\u001b[1;35m \u001b[0m\u001b[1;35m26      \u001b[0m\u001b[1;35m \u001b[0m│\u001b[1;35m \u001b[0m\u001b[1;35m6       \u001b[0m\u001b[1;35m \u001b[0m│\u001b[1;35m \u001b[0m\u001b[1;35m65      \u001b[0m\u001b[1;35m \u001b[0m│\u001b[1;35m \u001b[0m\u001b[1;35m83      \u001b[0m\u001b[1;35m \u001b[0m│\u001b[1;35m \u001b[0m\u001b[1;35m2025-06…\u001b[0m\u001b[1;35m \u001b[0m│\u001b[1;35m \u001b[0m\u001b[1;35mfinished\u001b[0m\u001b[1;35m \u001b[0m│\u001b[1;35m \u001b[0m\u001b[1;35m2       \u001b[0m\u001b[1;35m \u001b[0m│\u001b[1;35m \u001b[0m\u001b[1;35m1       \u001b[0m\u001b[1;35m \u001b[0m│\u001b[1;35m \u001b[0m\u001b[1;35m220     \u001b[0m\u001b[1;35m \u001b[0m│\u001b[1;35m \u001b[0m\u001b[1;35mNone   \u001b[0m\u001b[1;35m \u001b[0m│\n",
       "├────┼──────────┼──────────┼──────────┼──────────┼──────────┼──────────┼──────────┼──────────┼──────────┼─────────┤\n",
       "│\u001b[1;35m \u001b[0m\u001b[1;35m72\u001b[0m\u001b[1;35m \u001b[0m│\u001b[1;35m \u001b[0m\u001b[1;35m26      \u001b[0m\u001b[1;35m \u001b[0m│\u001b[1;35m \u001b[0m\u001b[1;35m6       \u001b[0m\u001b[1;35m \u001b[0m│\u001b[1;35m \u001b[0m\u001b[1;35m83      \u001b[0m\u001b[1;35m \u001b[0m│\u001b[1;35m \u001b[0m\u001b[1;35m65      \u001b[0m\u001b[1;35m \u001b[0m│\u001b[1;35m \u001b[0m\u001b[1;35m2025-06…\u001b[0m\u001b[1;35m \u001b[0m│\u001b[1;35m \u001b[0m\u001b[1;35mfinished\u001b[0m\u001b[1;35m \u001b[0m│\u001b[1;35m \u001b[0m\u001b[1;35m2       \u001b[0m\u001b[1;35m \u001b[0m│\u001b[1;35m \u001b[0m\u001b[1;35m1       \u001b[0m\u001b[1;35m \u001b[0m│\u001b[1;35m \u001b[0m\u001b[1;35m220     \u001b[0m\u001b[1;35m \u001b[0m│\u001b[1;35m \u001b[0m\u001b[1;35m83     \u001b[0m\u001b[1;35m \u001b[0m│\n",
       "╰────┴──────────┴──────────┴──────────┴──────────┴──────────┴──────────┴──────────┴──────────┴──────────┴─────────╯\n"
      ]
     },
     "metadata": {},
     "output_type": "display_data"
    },
    {
     "data": {
      "text/html": [
       "<pre style=\"white-space:pre;overflow-x:auto;line-height:normal;font-family:Menlo,'DejaVu Sans Mono',consolas,'Courier New',monospace\"><span style=\"color: #008080; text-decoration-color: #008080; font-weight: bold\">🔌 Connection closed.</span>\n",
       "\n",
       "</pre>\n"
      ],
      "text/plain": [
       "\u001b[1;36m🔌 Connection closed.\u001b[0m\n",
       "\n"
      ]
     },
     "metadata": {},
     "output_type": "display_data"
    },
    {
     "data": {
      "text/html": [
       "<pre style=\"white-space:pre;overflow-x:auto;line-height:normal;font-family:Menlo,'DejaVu Sans Mono',consolas,'Courier New',monospace\"><span style=\"color: #000080; text-decoration-color: #000080\">╭──────────────────────</span> Table Info <span style=\"color: #000080; text-decoration-color: #000080\">──────────────────────╮</span>\n",
       "<span style=\"color: #000080; text-decoration-color: #000080\">│ 📋 </span><span style=\"color: #008000; text-decoration-color: #008000; font-weight: bold\">Table:</span><span style=\"color: #000080; text-decoration-color: #000080\"> rounds                                       │</span>\n",
       "<span style=\"color: #000080; text-decoration-color: #000080\">│ 🔢 </span><span style=\"color: #008080; text-decoration-color: #008080; font-weight: bold\">Columns:</span><span style=\"color: #000080; text-decoration-color: #000080\"> id, name, start_date, end_date, created_at │</span>\n",
       "<span style=\"color: #000080; text-decoration-color: #000080\">│ 📊 </span><span style=\"color: #800080; text-decoration-color: #800080; font-weight: bold\">Total Rows:</span><span style=\"color: #000080; text-decoration-color: #000080\"> 2                                       │</span>\n",
       "<span style=\"color: #000080; text-decoration-color: #000080\">╰────────────────────────────────────────────────────────╯</span>\n",
       "</pre>\n"
      ],
      "text/plain": [
       "\u001b[34m╭─\u001b[0m\u001b[34m─────────────────────\u001b[0m Table Info \u001b[34m─────────────────────\u001b[0m\u001b[34m─╮\u001b[0m\n",
       "\u001b[34m│\u001b[0m\u001b[34m \u001b[0m\u001b[34m📋 \u001b[0m\u001b[1;32mTable:\u001b[0m\u001b[34m rounds\u001b[0m\u001b[34m                                      \u001b[0m\u001b[34m \u001b[0m\u001b[34m│\u001b[0m\n",
       "\u001b[34m│\u001b[0m\u001b[34m \u001b[0m\u001b[34m🔢 \u001b[0m\u001b[1;36mColumns:\u001b[0m\u001b[34m id, name, start_date, end_date, created_at\u001b[0m\u001b[34m \u001b[0m\u001b[34m│\u001b[0m\n",
       "\u001b[34m│\u001b[0m\u001b[34m \u001b[0m\u001b[34m📊 \u001b[0m\u001b[1;35mTotal Rows:\u001b[0m\u001b[34m 2\u001b[0m\u001b[34m                                      \u001b[0m\u001b[34m \u001b[0m\u001b[34m│\u001b[0m\n",
       "\u001b[34m╰────────────────────────────────────────────────────────╯\u001b[0m\n"
      ]
     },
     "metadata": {},
     "output_type": "display_data"
    },
    {
     "data": {
      "text/html": [
       "<pre style=\"white-space:pre;overflow-x:auto;line-height:normal;font-family:Menlo,'DejaVu Sans Mono',consolas,'Courier New',monospace\"><span style=\"font-style: italic\">                    Sample Data from rounds                     </span>\n",
       "╭────┬─────────┬────────────┬────────────┬─────────────────────╮\n",
       "│<span style=\"font-weight: bold\"> id </span>│<span style=\"font-weight: bold\"> name    </span>│<span style=\"font-weight: bold\"> start_date </span>│<span style=\"font-weight: bold\"> end_date   </span>│<span style=\"font-weight: bold\"> created_at          </span>│\n",
       "├────┼─────────┼────────────┼────────────┼─────────────────────┤\n",
       "│<span style=\"color: #800080; text-decoration-color: #800080; font-weight: bold\"> 25 </span>│<span style=\"color: #800080; text-decoration-color: #800080; font-weight: bold\"> Round 1 </span>│<span style=\"color: #800080; text-decoration-color: #800080; font-weight: bold\"> 2025-05-31 </span>│<span style=\"color: #800080; text-decoration-color: #800080; font-weight: bold\"> 2025-06-06 </span>│<span style=\"color: #800080; text-decoration-color: #800080; font-weight: bold\"> 2025-06-10 00:01:30 </span>│\n",
       "├────┼─────────┼────────────┼────────────┼─────────────────────┤\n",
       "│<span style=\"color: #800080; text-decoration-color: #800080; font-weight: bold\"> 26 </span>│<span style=\"color: #800080; text-decoration-color: #800080; font-weight: bold\"> Round 2 </span>│<span style=\"color: #800080; text-decoration-color: #800080; font-weight: bold\"> 2025-06-07 </span>│<span style=\"color: #800080; text-decoration-color: #800080; font-weight: bold\"> 2025-06-13 </span>│<span style=\"color: #800080; text-decoration-color: #800080; font-weight: bold\"> 2025-06-10 00:02:24 </span>│\n",
       "╰────┴─────────┴────────────┴────────────┴─────────────────────╯\n",
       "</pre>\n"
      ],
      "text/plain": [
       "\u001b[3m                    Sample Data from rounds                     \u001b[0m\n",
       "╭────┬─────────┬────────────┬────────────┬─────────────────────╮\n",
       "│\u001b[1m \u001b[0m\u001b[1mid\u001b[0m\u001b[1m \u001b[0m│\u001b[1m \u001b[0m\u001b[1mname   \u001b[0m\u001b[1m \u001b[0m│\u001b[1m \u001b[0m\u001b[1mstart_date\u001b[0m\u001b[1m \u001b[0m│\u001b[1m \u001b[0m\u001b[1mend_date  \u001b[0m\u001b[1m \u001b[0m│\u001b[1m \u001b[0m\u001b[1mcreated_at         \u001b[0m\u001b[1m \u001b[0m│\n",
       "├────┼─────────┼────────────┼────────────┼─────────────────────┤\n",
       "│\u001b[1;35m \u001b[0m\u001b[1;35m25\u001b[0m\u001b[1;35m \u001b[0m│\u001b[1;35m \u001b[0m\u001b[1;35mRound 1\u001b[0m\u001b[1;35m \u001b[0m│\u001b[1;35m \u001b[0m\u001b[1;35m2025-05-31\u001b[0m\u001b[1;35m \u001b[0m│\u001b[1;35m \u001b[0m\u001b[1;35m2025-06-06\u001b[0m\u001b[1;35m \u001b[0m│\u001b[1;35m \u001b[0m\u001b[1;35m2025-06-10 00:01:30\u001b[0m\u001b[1;35m \u001b[0m│\n",
       "├────┼─────────┼────────────┼────────────┼─────────────────────┤\n",
       "│\u001b[1;35m \u001b[0m\u001b[1;35m26\u001b[0m\u001b[1;35m \u001b[0m│\u001b[1;35m \u001b[0m\u001b[1;35mRound 2\u001b[0m\u001b[1;35m \u001b[0m│\u001b[1;35m \u001b[0m\u001b[1;35m2025-06-07\u001b[0m\u001b[1;35m \u001b[0m│\u001b[1;35m \u001b[0m\u001b[1;35m2025-06-13\u001b[0m\u001b[1;35m \u001b[0m│\u001b[1;35m \u001b[0m\u001b[1;35m2025-06-10 00:02:24\u001b[0m\u001b[1;35m \u001b[0m│\n",
       "╰────┴─────────┴────────────┴────────────┴─────────────────────╯\n"
      ]
     },
     "metadata": {},
     "output_type": "display_data"
    },
    {
     "data": {
      "text/html": [
       "<pre style=\"white-space:pre;overflow-x:auto;line-height:normal;font-family:Menlo,'DejaVu Sans Mono',consolas,'Courier New',monospace\"><span style=\"color: #008080; text-decoration-color: #008080; font-weight: bold\">🔌 Connection closed.</span>\n",
       "\n",
       "</pre>\n"
      ],
      "text/plain": [
       "\u001b[1;36m🔌 Connection closed.\u001b[0m\n",
       "\n"
      ]
     },
     "metadata": {},
     "output_type": "display_data"
    },
    {
     "data": {
      "text/html": [
       "<pre style=\"white-space:pre;overflow-x:auto;line-height:normal;font-family:Menlo,'DejaVu Sans Mono',consolas,'Courier New',monospace\"><span style=\"color: #000080; text-decoration-color: #000080\">╭──────────────────────────────</span> Table Info <span style=\"color: #000080; text-decoration-color: #000080\">───────────────────────────────╮</span>\n",
       "<span style=\"color: #000080; text-decoration-color: #000080\">│ 📋 </span><span style=\"color: #008000; text-decoration-color: #008000; font-weight: bold\">Table:</span><span style=\"color: #000080; text-decoration-color: #000080\"> two_legged_ties                                               │</span>\n",
       "<span style=\"color: #000080; text-decoration-color: #000080\">│ 🔢 </span><span style=\"color: #008080; text-decoration-color: #008080; font-weight: bold\">Columns:</span><span style=\"color: #000080; text-decoration-color: #000080\"> id, first_leg_match_id, second_leg_match_id, winner_team_id │</span>\n",
       "<span style=\"color: #000080; text-decoration-color: #000080\">│ 📊 </span><span style=\"color: #800080; text-decoration-color: #800080; font-weight: bold\">Total Rows:</span><span style=\"color: #000080; text-decoration-color: #000080\"> 2                                                        │</span>\n",
       "<span style=\"color: #000080; text-decoration-color: #000080\">╰─────────────────────────────────────────────────────────────────────────╯</span>\n",
       "</pre>\n"
      ],
      "text/plain": [
       "\u001b[34m╭─\u001b[0m\u001b[34m─────────────────────────────\u001b[0m Table Info \u001b[34m──────────────────────────────\u001b[0m\u001b[34m─╮\u001b[0m\n",
       "\u001b[34m│\u001b[0m\u001b[34m \u001b[0m\u001b[34m📋 \u001b[0m\u001b[1;32mTable:\u001b[0m\u001b[34m two_legged_ties\u001b[0m\u001b[34m                                              \u001b[0m\u001b[34m \u001b[0m\u001b[34m│\u001b[0m\n",
       "\u001b[34m│\u001b[0m\u001b[34m \u001b[0m\u001b[34m🔢 \u001b[0m\u001b[1;36mColumns:\u001b[0m\u001b[34m id, first_leg_match_id, second_leg_match_id, winner_team_id\u001b[0m\u001b[34m \u001b[0m\u001b[34m│\u001b[0m\n",
       "\u001b[34m│\u001b[0m\u001b[34m \u001b[0m\u001b[34m📊 \u001b[0m\u001b[1;35mTotal Rows:\u001b[0m\u001b[34m 2\u001b[0m\u001b[34m                                                       \u001b[0m\u001b[34m \u001b[0m\u001b[34m│\u001b[0m\n",
       "\u001b[34m╰─────────────────────────────────────────────────────────────────────────╯\u001b[0m\n"
      ]
     },
     "metadata": {},
     "output_type": "display_data"
    },
    {
     "data": {
      "text/html": [
       "<pre style=\"white-space:pre;overflow-x:auto;line-height:normal;font-family:Menlo,'DejaVu Sans Mono',consolas,'Courier New',monospace\"><span style=\"font-style: italic\">                 Sample Data from two_legged_ties                 </span>\n",
       "╭────┬────────────────────┬─────────────────────┬────────────────╮\n",
       "│<span style=\"font-weight: bold\"> id </span>│<span style=\"font-weight: bold\"> first_leg_match_id </span>│<span style=\"font-weight: bold\"> second_leg_match_id </span>│<span style=\"font-weight: bold\"> winner_team_id </span>│\n",
       "├────┼────────────────────┼─────────────────────┼────────────────┤\n",
       "│<span style=\"color: #800080; text-decoration-color: #800080; font-weight: bold\"> 4  </span>│<span style=\"color: #800080; text-decoration-color: #800080; font-weight: bold\"> 69                 </span>│<span style=\"color: #800080; text-decoration-color: #800080; font-weight: bold\"> 70                  </span>│<span style=\"color: #800080; text-decoration-color: #800080; font-weight: bold\"> None           </span>│\n",
       "├────┼────────────────────┼─────────────────────┼────────────────┤\n",
       "│<span style=\"color: #800080; text-decoration-color: #800080; font-weight: bold\"> 5  </span>│<span style=\"color: #800080; text-decoration-color: #800080; font-weight: bold\"> 71                 </span>│<span style=\"color: #800080; text-decoration-color: #800080; font-weight: bold\"> 72                  </span>│<span style=\"color: #800080; text-decoration-color: #800080; font-weight: bold\"> 83             </span>│\n",
       "╰────┴────────────────────┴─────────────────────┴────────────────╯\n",
       "</pre>\n"
      ],
      "text/plain": [
       "\u001b[3m                 Sample Data from two_legged_ties                 \u001b[0m\n",
       "╭────┬────────────────────┬─────────────────────┬────────────────╮\n",
       "│\u001b[1m \u001b[0m\u001b[1mid\u001b[0m\u001b[1m \u001b[0m│\u001b[1m \u001b[0m\u001b[1mfirst_leg_match_id\u001b[0m\u001b[1m \u001b[0m│\u001b[1m \u001b[0m\u001b[1msecond_leg_match_id\u001b[0m\u001b[1m \u001b[0m│\u001b[1m \u001b[0m\u001b[1mwinner_team_id\u001b[0m\u001b[1m \u001b[0m│\n",
       "├────┼────────────────────┼─────────────────────┼────────────────┤\n",
       "│\u001b[1;35m \u001b[0m\u001b[1;35m4 \u001b[0m\u001b[1;35m \u001b[0m│\u001b[1;35m \u001b[0m\u001b[1;35m69                \u001b[0m\u001b[1;35m \u001b[0m│\u001b[1;35m \u001b[0m\u001b[1;35m70                 \u001b[0m\u001b[1;35m \u001b[0m│\u001b[1;35m \u001b[0m\u001b[1;35mNone          \u001b[0m\u001b[1;35m \u001b[0m│\n",
       "├────┼────────────────────┼─────────────────────┼────────────────┤\n",
       "│\u001b[1;35m \u001b[0m\u001b[1;35m5 \u001b[0m\u001b[1;35m \u001b[0m│\u001b[1;35m \u001b[0m\u001b[1;35m71                \u001b[0m\u001b[1;35m \u001b[0m│\u001b[1;35m \u001b[0m\u001b[1;35m72                 \u001b[0m\u001b[1;35m \u001b[0m│\u001b[1;35m \u001b[0m\u001b[1;35m83            \u001b[0m\u001b[1;35m \u001b[0m│\n",
       "╰────┴────────────────────┴─────────────────────┴────────────────╯\n"
      ]
     },
     "metadata": {},
     "output_type": "display_data"
    },
    {
     "data": {
      "text/html": [
       "<pre style=\"white-space:pre;overflow-x:auto;line-height:normal;font-family:Menlo,'DejaVu Sans Mono',consolas,'Courier New',monospace\"><span style=\"color: #008080; text-decoration-color: #008080; font-weight: bold\">🔌 Connection closed.</span>\n",
       "\n",
       "</pre>\n"
      ],
      "text/plain": [
       "\u001b[1;36m🔌 Connection closed.\u001b[0m\n",
       "\n"
      ]
     },
     "metadata": {},
     "output_type": "display_data"
    }
   ],
   "source": [
    "table_info(\"matches\")\n",
    "table_info(\"rounds\")\n",
    "table_info(\"two_legged_ties\")"
   ]
  },
  {
   "cell_type": "code",
   "execution_count": 100,
   "id": "d6d37443",
   "metadata": {},
   "outputs": [
    {
     "data": {
      "text/html": [
       "<pre style=\"white-space:pre;overflow-x:auto;line-height:normal;font-family:Menlo,'DejaVu Sans Mono',consolas,'Courier New',monospace\"><span style=\"color: #008080; text-decoration-color: #008080; font-weight: bold\">📡 Executing Query...</span>\n",
       "</pre>\n"
      ],
      "text/plain": [
       "\u001b[1;36m📡 Executing Query\u001b[0m\u001b[1;36m...\u001b[0m\n"
      ]
     },
     "metadata": {},
     "output_type": "display_data"
    },
    {
     "data": {
      "text/html": [
       "<pre style=\"white-space:pre;overflow-x:auto;line-height:normal;font-family:Menlo,'DejaVu Sans Mono',consolas,'Courier New',monospace\"><span style=\"color: #800000; text-decoration-color: #800000\">╭─────────────────────────────────────────────────────</span> Error <span style=\"color: #800000; text-decoration-color: #800000\">─────────────────────────────────────────────────────╮</span>\n",
       "<span style=\"color: #800000; text-decoration-color: #800000\">│ ❗ Error executing query: FOREIGN KEY constraint failed                                                         │</span>\n",
       "<span style=\"color: #800000; text-decoration-color: #800000\">╰─────────────────────────────────────────────────────────────────────────────────────────────────────────────────╯</span>\n",
       "</pre>\n"
      ],
      "text/plain": [
       "\u001b[31m╭─\u001b[0m\u001b[31m────────────────────────────────────────────────────\u001b[0m Error \u001b[31m────────────────────────────────────────────────────\u001b[0m\u001b[31m─╮\u001b[0m\n",
       "\u001b[31m│\u001b[0m\u001b[31m \u001b[0m\u001b[31m❗ \u001b[0m\u001b[31mError executing query:\u001b[0m\u001b[31m FOREIGN KEY constraint failed\u001b[0m\u001b[31m                                                        \u001b[0m\u001b[31m \u001b[0m\u001b[31m│\u001b[0m\n",
       "\u001b[31m╰─────────────────────────────────────────────────────────────────────────────────────────────────────────────────╯\u001b[0m\n"
      ]
     },
     "metadata": {},
     "output_type": "display_data"
    },
    {
     "data": {
      "text/html": [
       "<pre style=\"white-space:pre;overflow-x:auto;line-height:normal;font-family:Menlo,'DejaVu Sans Mono',consolas,'Courier New',monospace\"><span style=\"color: #008080; text-decoration-color: #008080; font-weight: bold\">🔌 Connection closed.</span>\n",
       "\n",
       "</pre>\n"
      ],
      "text/plain": [
       "\u001b[1;36m🔌 Connection closed.\u001b[0m\n",
       "\n"
      ]
     },
     "metadata": {},
     "output_type": "display_data"
    },
    {
     "name": "stdout",
     "output_type": "stream",
     "text": [
      "✅ All matches have been assigned to round_id = 47\n"
     ]
    }
   ],
   "source": [
    "def assign_all_matches_to_round(round_id=47):\n",
    "    query = f\"\"\"\n",
    "    UPDATE matches\n",
    "    SET round_id = {round_id};\n",
    "    \"\"\"\n",
    "    try:\n",
    "        execute_query(query)\n",
    "        print(f\"✅ All matches have been assigned to round_id = {round_id}\")\n",
    "    except Exception as e:\n",
    "        print(f\"❌ Error updating matches: {e}\")\n",
    "\n",
    "assign_all_matches_to_round()"
   ]
  },
  {
   "cell_type": "code",
   "execution_count": 110,
   "id": "c892de96",
   "metadata": {},
   "outputs": [
    {
     "name": "stdout",
     "output_type": "stream",
     "text": [
      "All records deleted successfully.\n"
     ]
    }
   ],
   "source": [
    "def delete_all_records(connection):\n",
    "    \"\"\"\n",
    "    Delete all records from the 'two_legged_ties', 'matches', 'stages', and 'rounds' tables.\n",
    "    \n",
    "    Args:\n",
    "        connection: SQLite3 connection object.\n",
    "    \"\"\"\n",
    "    try:\n",
    "        cursor = connection.cursor()\n",
    "        # Disable foreign key constraint temporarily to avoid issues during deletion\n",
    "        cursor.execute(\"PRAGMA foreign_keys = OFF;\")\n",
    "        \n",
    "        # Delete in order from dependent to parent tables\n",
    "        cursor.execute(\"DELETE FROM two_legged_ties;\")\n",
    "        cursor.execute(\"DELETE FROM matches;\")\n",
    "        cursor.execute(\"DELETE FROM stages;\")\n",
    "        cursor.execute(\"DELETE FROM rounds;\")\n",
    "        \n",
    "        connection.commit()\n",
    "        print(\"All records deleted successfully.\")\n",
    "    except Exception as e:\n",
    "        print(f\"Error deleting records: {e}\")\n",
    "        connection.rollback()\n",
    "    finally:\n",
    "        # Re-enable foreign keys\n",
    "        cursor.execute(\"PRAGMA foreign_keys = ON;\")\n",
    "conn = get_connection()\n",
    "delete_all_records(conn)\n"
   ]
  },
  {
   "cell_type": "code",
   "execution_count": 35,
   "id": "43bae62a",
   "metadata": {},
   "outputs": [
    {
     "data": {
      "text/html": [
       "<pre style=\"white-space:pre;overflow-x:auto;line-height:normal;font-family:Menlo,'DejaVu Sans Mono',consolas,'Courier New',monospace\"><span style=\"color: #008080; text-decoration-color: #008080; font-weight: bold\">📡 Executing Query...</span>\n",
       "</pre>\n"
      ],
      "text/plain": [
       "\u001b[1;36m📡 Executing Query\u001b[0m\u001b[1;36m...\u001b[0m\n"
      ]
     },
     "metadata": {},
     "output_type": "display_data"
    },
    {
     "data": {
      "text/html": [
       "<pre style=\"white-space:pre;overflow-x:auto;line-height:normal;font-family:Menlo,'DejaVu Sans Mono',consolas,'Courier New',monospace\"><span style=\"color: #008000; text-decoration-color: #008000\">╭────────────────────────────────────────────────────</span> Success <span style=\"color: #008000; text-decoration-color: #008000\">────────────────────────────────────────────────────╮</span>\n",
       "<span style=\"color: #008000; text-decoration-color: #008000\">│ ✅ Query executed successfully.                                                                                 │</span>\n",
       "<span style=\"color: #008000; text-decoration-color: #008000\">╰─────────────────────────────────────────────────────────────────────────────────────────────────────────────────╯</span>\n",
       "</pre>\n"
      ],
      "text/plain": [
       "\u001b[32m╭─\u001b[0m\u001b[32m───────────────────────────────────────────────────\u001b[0m Success \u001b[32m───────────────────────────────────────────────────\u001b[0m\u001b[32m─╮\u001b[0m\n",
       "\u001b[32m│\u001b[0m\u001b[32m \u001b[0m\u001b[32m✅ \u001b[0m\u001b[32mQuery executed successfully.\u001b[0m\u001b[32m                                                                                \u001b[0m\u001b[32m \u001b[0m\u001b[32m│\u001b[0m\n",
       "\u001b[32m╰─────────────────────────────────────────────────────────────────────────────────────────────────────────────────╯\u001b[0m\n"
      ]
     },
     "metadata": {},
     "output_type": "display_data"
    },
    {
     "data": {
      "text/html": [
       "<pre style=\"white-space:pre;overflow-x:auto;line-height:normal;font-family:Menlo,'DejaVu Sans Mono',consolas,'Courier New',monospace\"><span style=\"color: #008080; text-decoration-color: #008080; font-weight: bold\">🔌 Connection closed.</span>\n",
       "\n",
       "</pre>\n"
      ],
      "text/plain": [
       "\u001b[1;36m🔌 Connection closed.\u001b[0m\n",
       "\n"
      ]
     },
     "metadata": {},
     "output_type": "display_data"
    }
   ],
   "source": [
    "query_delete_predictions = \"DELETE FROM predictions;\"\n",
    "execute_query(query_delete_predictions)"
   ]
  },
  {
   "cell_type": "code",
   "execution_count": 37,
   "id": "a1cc2626",
   "metadata": {},
   "outputs": [
    {
     "data": {
      "text/html": [
       "<pre style=\"white-space:pre;overflow-x:auto;line-height:normal;font-family:Menlo,'DejaVu Sans Mono',consolas,'Courier New',monospace\"><span style=\"color: #000080; text-decoration-color: #000080\">╭──────────────────────────────────────────────────</span> Table Info <span style=\"color: #000080; text-decoration-color: #000080\">───────────────────────────────────────────────────╮</span>\n",
       "<span style=\"color: #000080; text-decoration-color: #000080\">│ 📋 </span><span style=\"color: #008000; text-decoration-color: #008000; font-weight: bold\">Table:</span><span style=\"color: #000080; text-decoration-color: #000080\"> players                                                                                               │</span>\n",
       "<span style=\"color: #000080; text-decoration-color: #000080\">│ 🔢 </span><span style=\"color: #008080; text-decoration-color: #008080; font-weight: bold\">Columns:</span><span style=\"color: #000080; text-decoration-color: #000080\"> id, username, email, password_hash, avatar_path, role, is_confirmed, reset_token, created_at,       │</span>\n",
       "<span style=\"color: #000080; text-decoration-color: #000080\">│ updated_at, last_login_at, avatar_url                                                                           │</span>\n",
       "<span style=\"color: #000080; text-decoration-color: #000080\">│ 📊 </span><span style=\"color: #800080; text-decoration-color: #800080; font-weight: bold\">Total Rows:</span><span style=\"color: #000080; text-decoration-color: #000080\"> 2                                                                                                │</span>\n",
       "<span style=\"color: #000080; text-decoration-color: #000080\">╰─────────────────────────────────────────────────────────────────────────────────────────────────────────────────╯</span>\n",
       "</pre>\n"
      ],
      "text/plain": [
       "\u001b[34m╭─\u001b[0m\u001b[34m─────────────────────────────────────────────────\u001b[0m Table Info \u001b[34m──────────────────────────────────────────────────\u001b[0m\u001b[34m─╮\u001b[0m\n",
       "\u001b[34m│\u001b[0m\u001b[34m \u001b[0m\u001b[34m📋 \u001b[0m\u001b[1;32mTable:\u001b[0m\u001b[34m players\u001b[0m\u001b[34m                                                                                              \u001b[0m\u001b[34m \u001b[0m\u001b[34m│\u001b[0m\n",
       "\u001b[34m│\u001b[0m\u001b[34m \u001b[0m\u001b[34m🔢 \u001b[0m\u001b[1;36mColumns:\u001b[0m\u001b[34m id, username, email, password_hash, avatar_path, role, is_confirmed, reset_token, created_at, \u001b[0m\u001b[34m     \u001b[0m\u001b[34m \u001b[0m\u001b[34m│\u001b[0m\n",
       "\u001b[34m│\u001b[0m\u001b[34m \u001b[0m\u001b[34mupdated_at, last_login_at, avatar_url\u001b[0m\u001b[34m                                                                          \u001b[0m\u001b[34m \u001b[0m\u001b[34m│\u001b[0m\n",
       "\u001b[34m│\u001b[0m\u001b[34m \u001b[0m\u001b[34m📊 \u001b[0m\u001b[1;35mTotal Rows:\u001b[0m\u001b[34m 2\u001b[0m\u001b[34m                                                                                               \u001b[0m\u001b[34m \u001b[0m\u001b[34m│\u001b[0m\n",
       "\u001b[34m╰─────────────────────────────────────────────────────────────────────────────────────────────────────────────────╯\u001b[0m\n"
      ]
     },
     "metadata": {},
     "output_type": "display_data"
    },
    {
     "data": {
      "text/html": [
       "<pre style=\"white-space:pre;overflow-x:auto;line-height:normal;font-family:Menlo,'DejaVu Sans Mono',consolas,'Courier New',monospace\"><span style=\"font-style: italic\">                                             Sample Data from players                                              </span>\n",
       "╭────┬─────────┬─────────┬─────────┬─────────┬────────┬─────────┬─────────┬─────────┬─────────┬─────────┬─────────╮\n",
       "│<span style=\"font-weight: bold\"> id </span>│<span style=\"font-weight: bold\"> userna… </span>│<span style=\"font-weight: bold\"> email   </span>│<span style=\"font-weight: bold\"> passwo… </span>│<span style=\"font-weight: bold\"> avatar… </span>│<span style=\"font-weight: bold\"> role   </span>│<span style=\"font-weight: bold\"> is_con… </span>│<span style=\"font-weight: bold\"> reset_… </span>│<span style=\"font-weight: bold\"> create… </span>│<span style=\"font-weight: bold\"> update… </span>│<span style=\"font-weight: bold\"> last_l… </span>│<span style=\"font-weight: bold\"> avatar… </span>│\n",
       "├────┼─────────┼─────────┼─────────┼─────────┼────────┼─────────┼─────────┼─────────┼─────────┼─────────┼─────────┤\n",
       "│<span style=\"color: #800080; text-decoration-color: #800080; font-weight: bold\"> 8  </span>│<span style=\"color: #800080; text-decoration-color: #800080; font-weight: bold\"> BaselA… </span>│<span style=\"color: #800080; text-decoration-color: #800080; font-weight: bold\"> BaselA… </span>│<span style=\"color: #800080; text-decoration-color: #800080; font-weight: bold\"> b'$2b$… </span>│<span style=\"color: #800080; text-decoration-color: #800080; font-weight: bold\"> assets… </span>│<span style=\"color: #800080; text-decoration-color: #800080; font-weight: bold\"> admin  </span>│<span style=\"color: #800080; text-decoration-color: #800080; font-weight: bold\"> 1       </span>│<span style=\"color: #800080; text-decoration-color: #800080; font-weight: bold\"> None    </span>│<span style=\"color: #800080; text-decoration-color: #800080; font-weight: bold\"> 2025-0… </span>│<span style=\"color: #800080; text-decoration-color: #800080; font-weight: bold\"> 2025-0… </span>│<span style=\"color: #800080; text-decoration-color: #800080; font-weight: bold\"> 2025-0… </span>│<span style=\"color: #800080; text-decoration-color: #800080; font-weight: bold\"> assets… </span>│\n",
       "│<span style=\"color: #800080; text-decoration-color: #800080; font-weight: bold\">    </span>│<span style=\"color: #800080; text-decoration-color: #800080; font-weight: bold\">         </span>│<span style=\"color: #800080; text-decoration-color: #800080; font-weight: bold\">         </span>│<span style=\"color: #800080; text-decoration-color: #800080; font-weight: bold\">         </span>│<span style=\"color: #800080; text-decoration-color: #800080; font-weight: bold\">         </span>│<span style=\"color: #800080; text-decoration-color: #800080; font-weight: bold\">        </span>│<span style=\"color: #800080; text-decoration-color: #800080; font-weight: bold\">         </span>│<span style=\"color: #800080; text-decoration-color: #800080; font-weight: bold\">         </span>│<span style=\"color: #800080; text-decoration-color: #800080; font-weight: bold\"> 14:00:… </span>│<span style=\"color: #800080; text-decoration-color: #800080; font-weight: bold\"> 15:24:… </span>│<span style=\"color: #800080; text-decoration-color: #800080; font-weight: bold\">         </span>│<span style=\"color: #800080; text-decoration-color: #800080; font-weight: bold\">         </span>│\n",
       "├────┼─────────┼─────────┼─────────┼─────────┼────────┼─────────┼─────────┼─────────┼─────────┼─────────┼─────────┤\n",
       "│<span style=\"color: #800080; text-decoration-color: #800080; font-weight: bold\"> 14 </span>│<span style=\"color: #800080; text-decoration-color: #800080; font-weight: bold\"> Mohamed </span>│<span style=\"color: #800080; text-decoration-color: #800080; font-weight: bold\"> basela… </span>│<span style=\"color: #800080; text-decoration-color: #800080; font-weight: bold\"> b'$2b$… </span>│<span style=\"color: #800080; text-decoration-color: #800080; font-weight: bold\"> None    </span>│<span style=\"color: #800080; text-decoration-color: #800080; font-weight: bold\"> player </span>│<span style=\"color: #800080; text-decoration-color: #800080; font-weight: bold\"> 1       </span>│<span style=\"color: #800080; text-decoration-color: #800080; font-weight: bold\"> None    </span>│<span style=\"color: #800080; text-decoration-color: #800080; font-weight: bold\"> 2025-0… </span>│<span style=\"color: #800080; text-decoration-color: #800080; font-weight: bold\"> 2025-0… </span>│<span style=\"color: #800080; text-decoration-color: #800080; font-weight: bold\"> 2025-0… </span>│<span style=\"color: #800080; text-decoration-color: #800080; font-weight: bold\"> None    </span>│\n",
       "│<span style=\"color: #800080; text-decoration-color: #800080; font-weight: bold\">    </span>│<span style=\"color: #800080; text-decoration-color: #800080; font-weight: bold\"> Khaled  </span>│<span style=\"color: #800080; text-decoration-color: #800080; font-weight: bold\">         </span>│<span style=\"color: #800080; text-decoration-color: #800080; font-weight: bold\">         </span>│<span style=\"color: #800080; text-decoration-color: #800080; font-weight: bold\">         </span>│<span style=\"color: #800080; text-decoration-color: #800080; font-weight: bold\">        </span>│<span style=\"color: #800080; text-decoration-color: #800080; font-weight: bold\">         </span>│<span style=\"color: #800080; text-decoration-color: #800080; font-weight: bold\">         </span>│<span style=\"color: #800080; text-decoration-color: #800080; font-weight: bold\"> 18:00:… </span>│<span style=\"color: #800080; text-decoration-color: #800080; font-weight: bold\"> 23:13:… </span>│<span style=\"color: #800080; text-decoration-color: #800080; font-weight: bold\">         </span>│<span style=\"color: #800080; text-decoration-color: #800080; font-weight: bold\">         </span>│\n",
       "╰────┴─────────┴─────────┴─────────┴─────────┴────────┴─────────┴─────────┴─────────┴─────────┴─────────┴─────────╯\n",
       "</pre>\n"
      ],
      "text/plain": [
       "\u001b[3m                                             Sample Data from players                                              \u001b[0m\n",
       "╭────┬─────────┬─────────┬─────────┬─────────┬────────┬─────────┬─────────┬─────────┬─────────┬─────────┬─────────╮\n",
       "│\u001b[1m \u001b[0m\u001b[1mid\u001b[0m\u001b[1m \u001b[0m│\u001b[1m \u001b[0m\u001b[1muserna…\u001b[0m\u001b[1m \u001b[0m│\u001b[1m \u001b[0m\u001b[1memail  \u001b[0m\u001b[1m \u001b[0m│\u001b[1m \u001b[0m\u001b[1mpasswo…\u001b[0m\u001b[1m \u001b[0m│\u001b[1m \u001b[0m\u001b[1mavatar…\u001b[0m\u001b[1m \u001b[0m│\u001b[1m \u001b[0m\u001b[1mrole  \u001b[0m\u001b[1m \u001b[0m│\u001b[1m \u001b[0m\u001b[1mis_con…\u001b[0m\u001b[1m \u001b[0m│\u001b[1m \u001b[0m\u001b[1mreset_…\u001b[0m\u001b[1m \u001b[0m│\u001b[1m \u001b[0m\u001b[1mcreate…\u001b[0m\u001b[1m \u001b[0m│\u001b[1m \u001b[0m\u001b[1mupdate…\u001b[0m\u001b[1m \u001b[0m│\u001b[1m \u001b[0m\u001b[1mlast_l…\u001b[0m\u001b[1m \u001b[0m│\u001b[1m \u001b[0m\u001b[1mavatar…\u001b[0m\u001b[1m \u001b[0m│\n",
       "├────┼─────────┼─────────┼─────────┼─────────┼────────┼─────────┼─────────┼─────────┼─────────┼─────────┼─────────┤\n",
       "│\u001b[1;35m \u001b[0m\u001b[1;35m8 \u001b[0m\u001b[1;35m \u001b[0m│\u001b[1;35m \u001b[0m\u001b[1;35mBaselA…\u001b[0m\u001b[1;35m \u001b[0m│\u001b[1;35m \u001b[0m\u001b[1;35mBaselA…\u001b[0m\u001b[1;35m \u001b[0m│\u001b[1;35m \u001b[0m\u001b[1;35mb'$2b$…\u001b[0m\u001b[1;35m \u001b[0m│\u001b[1;35m \u001b[0m\u001b[1;35massets…\u001b[0m\u001b[1;35m \u001b[0m│\u001b[1;35m \u001b[0m\u001b[1;35madmin \u001b[0m\u001b[1;35m \u001b[0m│\u001b[1;35m \u001b[0m\u001b[1;35m1      \u001b[0m\u001b[1;35m \u001b[0m│\u001b[1;35m \u001b[0m\u001b[1;35mNone   \u001b[0m\u001b[1;35m \u001b[0m│\u001b[1;35m \u001b[0m\u001b[1;35m2025-0…\u001b[0m\u001b[1;35m \u001b[0m│\u001b[1;35m \u001b[0m\u001b[1;35m2025-0…\u001b[0m\u001b[1;35m \u001b[0m│\u001b[1;35m \u001b[0m\u001b[1;35m2025-0…\u001b[0m\u001b[1;35m \u001b[0m│\u001b[1;35m \u001b[0m\u001b[1;35massets…\u001b[0m\u001b[1;35m \u001b[0m│\n",
       "│\u001b[1;35m    \u001b[0m│\u001b[1;35m         \u001b[0m│\u001b[1;35m         \u001b[0m│\u001b[1;35m         \u001b[0m│\u001b[1;35m         \u001b[0m│\u001b[1;35m        \u001b[0m│\u001b[1;35m         \u001b[0m│\u001b[1;35m         \u001b[0m│\u001b[1;35m \u001b[0m\u001b[1;35m14:00:…\u001b[0m\u001b[1;35m \u001b[0m│\u001b[1;35m \u001b[0m\u001b[1;35m15:24:…\u001b[0m\u001b[1;35m \u001b[0m│\u001b[1;35m         \u001b[0m│\u001b[1;35m         \u001b[0m│\n",
       "├────┼─────────┼─────────┼─────────┼─────────┼────────┼─────────┼─────────┼─────────┼─────────┼─────────┼─────────┤\n",
       "│\u001b[1;35m \u001b[0m\u001b[1;35m14\u001b[0m\u001b[1;35m \u001b[0m│\u001b[1;35m \u001b[0m\u001b[1;35mMohamed\u001b[0m\u001b[1;35m \u001b[0m│\u001b[1;35m \u001b[0m\u001b[1;35mbasela…\u001b[0m\u001b[1;35m \u001b[0m│\u001b[1;35m \u001b[0m\u001b[1;35mb'$2b$…\u001b[0m\u001b[1;35m \u001b[0m│\u001b[1;35m \u001b[0m\u001b[1;35mNone   \u001b[0m\u001b[1;35m \u001b[0m│\u001b[1;35m \u001b[0m\u001b[1;35mplayer\u001b[0m\u001b[1;35m \u001b[0m│\u001b[1;35m \u001b[0m\u001b[1;35m1      \u001b[0m\u001b[1;35m \u001b[0m│\u001b[1;35m \u001b[0m\u001b[1;35mNone   \u001b[0m\u001b[1;35m \u001b[0m│\u001b[1;35m \u001b[0m\u001b[1;35m2025-0…\u001b[0m\u001b[1;35m \u001b[0m│\u001b[1;35m \u001b[0m\u001b[1;35m2025-0…\u001b[0m\u001b[1;35m \u001b[0m│\u001b[1;35m \u001b[0m\u001b[1;35m2025-0…\u001b[0m\u001b[1;35m \u001b[0m│\u001b[1;35m \u001b[0m\u001b[1;35mNone   \u001b[0m\u001b[1;35m \u001b[0m│\n",
       "│\u001b[1;35m    \u001b[0m│\u001b[1;35m \u001b[0m\u001b[1;35mKhaled \u001b[0m\u001b[1;35m \u001b[0m│\u001b[1;35m         \u001b[0m│\u001b[1;35m         \u001b[0m│\u001b[1;35m         \u001b[0m│\u001b[1;35m        \u001b[0m│\u001b[1;35m         \u001b[0m│\u001b[1;35m         \u001b[0m│\u001b[1;35m \u001b[0m\u001b[1;35m18:00:…\u001b[0m\u001b[1;35m \u001b[0m│\u001b[1;35m \u001b[0m\u001b[1;35m23:13:…\u001b[0m\u001b[1;35m \u001b[0m│\u001b[1;35m         \u001b[0m│\u001b[1;35m         \u001b[0m│\n",
       "╰────┴─────────┴─────────┴─────────┴─────────┴────────┴─────────┴─────────┴─────────┴─────────┴─────────┴─────────╯\n"
      ]
     },
     "metadata": {},
     "output_type": "display_data"
    },
    {
     "data": {
      "text/html": [
       "<pre style=\"white-space:pre;overflow-x:auto;line-height:normal;font-family:Menlo,'DejaVu Sans Mono',consolas,'Courier New',monospace\"><span style=\"color: #008080; text-decoration-color: #008080; font-weight: bold\">🔌 Connection closed.</span>\n",
       "\n",
       "</pre>\n"
      ],
      "text/plain": [
       "\u001b[1;36m🔌 Connection closed.\u001b[0m\n",
       "\n"
      ]
     },
     "metadata": {},
     "output_type": "display_data"
    }
   ],
   "source": [
    "table_info(\"players\")"
   ]
  },
  {
   "cell_type": "code",
   "execution_count": 28,
   "id": "0a993587",
   "metadata": {},
   "outputs": [
    {
     "data": {
      "text/plain": [
       "<sqlite3.Cursor at 0x1a032ca6a40>"
      ]
     },
     "execution_count": 28,
     "metadata": {},
     "output_type": "execute_result"
    }
   ],
   "source": [
    "con = get_connection()\n",
    "con.execute(\"PRAGMA foreign_keys = ON;\")"
   ]
  },
  {
   "cell_type": "code",
   "execution_count": null,
   "id": "d04ef962",
   "metadata": {},
   "outputs": [],
   "source": []
  }
 ],
 "metadata": {
  "kernelspec": {
   "display_name": "base",
   "language": "python",
   "name": "python3"
  },
  "language_info": {
   "codemirror_mode": {
    "name": "ipython",
    "version": 3
   },
   "file_extension": ".py",
   "mimetype": "text/x-python",
   "name": "python",
   "nbconvert_exporter": "python",
   "pygments_lexer": "ipython3",
   "version": "3.11.7"
  }
 },
 "nbformat": 4,
 "nbformat_minor": 5
}
